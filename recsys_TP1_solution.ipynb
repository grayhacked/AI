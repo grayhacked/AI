{
  "cells": [
    {
      "cell_type": "markdown",
      "metadata": {
        "id": "view-in-github",
        "colab_type": "text"
      },
      "source": [
        "<a href=\"https://colab.research.google.com/github/grayhacked/AI/blob/main/recsys_TP1_solution.ipynb\" target=\"_parent\"><img src=\"https://colab.research.google.com/assets/colab-badge.svg\" alt=\"Open In Colab\"/></a>"
      ]
    },
    {
      "cell_type": "markdown",
      "metadata": {
        "id": "jGvirHCNqQw2"
      },
      "source": [
        "# Recommender systems: Memory-Based Collaborative Filtering"
      ]
    },
    {
      "cell_type": "markdown",
      "metadata": {
        "id": "By7Eu-JQqQw_"
      },
      "source": [
        "Dataset: [Articles Sharing and Reading from CI&T Deskdrop](https://www.kaggle.com/gspmoreira/articles-sharing-reading-from-cit-deskdrop).\n",
        "\n",
        "This dataset contains a real sample of **12 months logs (Mar. 2016 - Feb. 2017)** from CI&T's Internal Communication platform (DeskDrop) corresponding to about **73k logged users interactions** on more than **3k public articles** shared in the platform."
      ]
    },
    {
      "cell_type": "code",
      "source": [
        "import pandas as pd\n",
        "import numpy as np\n",
        "from tqdm.notebook import trange, tqdm"
      ],
      "metadata": {
        "id": "FfcyLv5uqjIh"
      },
      "execution_count": null,
      "outputs": []
    },
    {
      "cell_type": "markdown",
      "metadata": {
        "id": "krOj16iWqQxB"
      },
      "source": [
        "## Load data"
      ]
    },
    {
      "cell_type": "code",
      "execution_count": null,
      "metadata": {
        "id": "Ou_s98f37NUH"
      },
      "outputs": [],
      "source": [
        "%%capture\n",
        "!wget \"https://github.com/eishkina-estia/ML2023/raw/main/data/CI&T DeskDrop.zip\"\n",
        "!unzip \"CI&T DeskDrop.zip\""
      ]
    },
    {
      "cell_type": "code",
      "source": [
        "interactions_df = pd.read_csv('/content/CI&T DeskDrop/users_interactions.csv')\n",
        "interactions_df.head()"
      ],
      "metadata": {
        "colab": {
          "base_uri": "https://localhost:8080/",
          "height": 295
        },
        "id": "fV7xSelOMLYT",
        "outputId": "b33a8f0d-f09e-4cdb-f1b3-c1c6326e2656"
      },
      "execution_count": null,
      "outputs": [
        {
          "output_type": "execute_result",
          "data": {
            "text/plain": [
              "    timestamp eventType            contentId             personId  \\\n",
              "0  1465413032      VIEW -3499919498720038879 -8845298781299428018   \n",
              "1  1465412560      VIEW  8890720798209849691 -1032019229384696495   \n",
              "2  1465416190      VIEW   310515487419366995 -1130272294246983140   \n",
              "3  1465413895    FOLLOW   310515487419366995   344280948527967603   \n",
              "4  1465412290      VIEW -7820640624231356730  -445337111692715325   \n",
              "\n",
              "             sessionId                                          userAgent  \\\n",
              "0  1264196770339959068                                                NaN   \n",
              "1  3621737643587579081  Mozilla/5.0 (Macintosh; Intel Mac OS X 10_11_2...   \n",
              "2  2631864456530402479                                                NaN   \n",
              "3 -3167637573980064150                                                NaN   \n",
              "4  5611481178424124714                                                NaN   \n",
              "\n",
              "  userRegion userCountry  \n",
              "0        NaN         NaN  \n",
              "1         NY          US  \n",
              "2        NaN         NaN  \n",
              "3        NaN         NaN  \n",
              "4        NaN         NaN  "
            ],
            "text/html": [
              "\n",
              "  <div id=\"df-fa05c0c8-ad9e-4898-8a4c-fb9503932cd6\" class=\"colab-df-container\">\n",
              "    <div>\n",
              "<style scoped>\n",
              "    .dataframe tbody tr th:only-of-type {\n",
              "        vertical-align: middle;\n",
              "    }\n",
              "\n",
              "    .dataframe tbody tr th {\n",
              "        vertical-align: top;\n",
              "    }\n",
              "\n",
              "    .dataframe thead th {\n",
              "        text-align: right;\n",
              "    }\n",
              "</style>\n",
              "<table border=\"1\" class=\"dataframe\">\n",
              "  <thead>\n",
              "    <tr style=\"text-align: right;\">\n",
              "      <th></th>\n",
              "      <th>timestamp</th>\n",
              "      <th>eventType</th>\n",
              "      <th>contentId</th>\n",
              "      <th>personId</th>\n",
              "      <th>sessionId</th>\n",
              "      <th>userAgent</th>\n",
              "      <th>userRegion</th>\n",
              "      <th>userCountry</th>\n",
              "    </tr>\n",
              "  </thead>\n",
              "  <tbody>\n",
              "    <tr>\n",
              "      <th>0</th>\n",
              "      <td>1465413032</td>\n",
              "      <td>VIEW</td>\n",
              "      <td>-3499919498720038879</td>\n",
              "      <td>-8845298781299428018</td>\n",
              "      <td>1264196770339959068</td>\n",
              "      <td>NaN</td>\n",
              "      <td>NaN</td>\n",
              "      <td>NaN</td>\n",
              "    </tr>\n",
              "    <tr>\n",
              "      <th>1</th>\n",
              "      <td>1465412560</td>\n",
              "      <td>VIEW</td>\n",
              "      <td>8890720798209849691</td>\n",
              "      <td>-1032019229384696495</td>\n",
              "      <td>3621737643587579081</td>\n",
              "      <td>Mozilla/5.0 (Macintosh; Intel Mac OS X 10_11_2...</td>\n",
              "      <td>NY</td>\n",
              "      <td>US</td>\n",
              "    </tr>\n",
              "    <tr>\n",
              "      <th>2</th>\n",
              "      <td>1465416190</td>\n",
              "      <td>VIEW</td>\n",
              "      <td>310515487419366995</td>\n",
              "      <td>-1130272294246983140</td>\n",
              "      <td>2631864456530402479</td>\n",
              "      <td>NaN</td>\n",
              "      <td>NaN</td>\n",
              "      <td>NaN</td>\n",
              "    </tr>\n",
              "    <tr>\n",
              "      <th>3</th>\n",
              "      <td>1465413895</td>\n",
              "      <td>FOLLOW</td>\n",
              "      <td>310515487419366995</td>\n",
              "      <td>344280948527967603</td>\n",
              "      <td>-3167637573980064150</td>\n",
              "      <td>NaN</td>\n",
              "      <td>NaN</td>\n",
              "      <td>NaN</td>\n",
              "    </tr>\n",
              "    <tr>\n",
              "      <th>4</th>\n",
              "      <td>1465412290</td>\n",
              "      <td>VIEW</td>\n",
              "      <td>-7820640624231356730</td>\n",
              "      <td>-445337111692715325</td>\n",
              "      <td>5611481178424124714</td>\n",
              "      <td>NaN</td>\n",
              "      <td>NaN</td>\n",
              "      <td>NaN</td>\n",
              "    </tr>\n",
              "  </tbody>\n",
              "</table>\n",
              "</div>\n",
              "    <div class=\"colab-df-buttons\">\n",
              "\n",
              "  <div class=\"colab-df-container\">\n",
              "    <button class=\"colab-df-convert\" onclick=\"convertToInteractive('df-fa05c0c8-ad9e-4898-8a4c-fb9503932cd6')\"\n",
              "            title=\"Convert this dataframe to an interactive table.\"\n",
              "            style=\"display:none;\">\n",
              "\n",
              "  <svg xmlns=\"http://www.w3.org/2000/svg\" height=\"24px\" viewBox=\"0 -960 960 960\">\n",
              "    <path d=\"M120-120v-720h720v720H120Zm60-500h600v-160H180v160Zm220 220h160v-160H400v160Zm0 220h160v-160H400v160ZM180-400h160v-160H180v160Zm440 0h160v-160H620v160ZM180-180h160v-160H180v160Zm440 0h160v-160H620v160Z\"/>\n",
              "  </svg>\n",
              "    </button>\n",
              "\n",
              "  <style>\n",
              "    .colab-df-container {\n",
              "      display:flex;\n",
              "      gap: 12px;\n",
              "    }\n",
              "\n",
              "    .colab-df-convert {\n",
              "      background-color: #E8F0FE;\n",
              "      border: none;\n",
              "      border-radius: 50%;\n",
              "      cursor: pointer;\n",
              "      display: none;\n",
              "      fill: #1967D2;\n",
              "      height: 32px;\n",
              "      padding: 0 0 0 0;\n",
              "      width: 32px;\n",
              "    }\n",
              "\n",
              "    .colab-df-convert:hover {\n",
              "      background-color: #E2EBFA;\n",
              "      box-shadow: 0px 1px 2px rgba(60, 64, 67, 0.3), 0px 1px 3px 1px rgba(60, 64, 67, 0.15);\n",
              "      fill: #174EA6;\n",
              "    }\n",
              "\n",
              "    .colab-df-buttons div {\n",
              "      margin-bottom: 4px;\n",
              "    }\n",
              "\n",
              "    [theme=dark] .colab-df-convert {\n",
              "      background-color: #3B4455;\n",
              "      fill: #D2E3FC;\n",
              "    }\n",
              "\n",
              "    [theme=dark] .colab-df-convert:hover {\n",
              "      background-color: #434B5C;\n",
              "      box-shadow: 0px 1px 3px 1px rgba(0, 0, 0, 0.15);\n",
              "      filter: drop-shadow(0px 1px 2px rgba(0, 0, 0, 0.3));\n",
              "      fill: #FFFFFF;\n",
              "    }\n",
              "  </style>\n",
              "\n",
              "    <script>\n",
              "      const buttonEl =\n",
              "        document.querySelector('#df-fa05c0c8-ad9e-4898-8a4c-fb9503932cd6 button.colab-df-convert');\n",
              "      buttonEl.style.display =\n",
              "        google.colab.kernel.accessAllowed ? 'block' : 'none';\n",
              "\n",
              "      async function convertToInteractive(key) {\n",
              "        const element = document.querySelector('#df-fa05c0c8-ad9e-4898-8a4c-fb9503932cd6');\n",
              "        const dataTable =\n",
              "          await google.colab.kernel.invokeFunction('convertToInteractive',\n",
              "                                                    [key], {});\n",
              "        if (!dataTable) return;\n",
              "\n",
              "        const docLinkHtml = 'Like what you see? Visit the ' +\n",
              "          '<a target=\"_blank\" href=https://colab.research.google.com/notebooks/data_table.ipynb>data table notebook</a>'\n",
              "          + ' to learn more about interactive tables.';\n",
              "        element.innerHTML = '';\n",
              "        dataTable['output_type'] = 'display_data';\n",
              "        await google.colab.output.renderOutput(dataTable, element);\n",
              "        const docLink = document.createElement('div');\n",
              "        docLink.innerHTML = docLinkHtml;\n",
              "        element.appendChild(docLink);\n",
              "      }\n",
              "    </script>\n",
              "  </div>\n",
              "\n",
              "\n",
              "<div id=\"df-8b85ac15-5a7a-4665-b567-31e83b431f3d\">\n",
              "  <button class=\"colab-df-quickchart\" onclick=\"quickchart('df-8b85ac15-5a7a-4665-b567-31e83b431f3d')\"\n",
              "            title=\"Suggest charts\"\n",
              "            style=\"display:none;\">\n",
              "\n",
              "<svg xmlns=\"http://www.w3.org/2000/svg\" height=\"24px\"viewBox=\"0 0 24 24\"\n",
              "     width=\"24px\">\n",
              "    <g>\n",
              "        <path d=\"M19 3H5c-1.1 0-2 .9-2 2v14c0 1.1.9 2 2 2h14c1.1 0 2-.9 2-2V5c0-1.1-.9-2-2-2zM9 17H7v-7h2v7zm4 0h-2V7h2v10zm4 0h-2v-4h2v4z\"/>\n",
              "    </g>\n",
              "</svg>\n",
              "  </button>\n",
              "\n",
              "<style>\n",
              "  .colab-df-quickchart {\n",
              "      --bg-color: #E8F0FE;\n",
              "      --fill-color: #1967D2;\n",
              "      --hover-bg-color: #E2EBFA;\n",
              "      --hover-fill-color: #174EA6;\n",
              "      --disabled-fill-color: #AAA;\n",
              "      --disabled-bg-color: #DDD;\n",
              "  }\n",
              "\n",
              "  [theme=dark] .colab-df-quickchart {\n",
              "      --bg-color: #3B4455;\n",
              "      --fill-color: #D2E3FC;\n",
              "      --hover-bg-color: #434B5C;\n",
              "      --hover-fill-color: #FFFFFF;\n",
              "      --disabled-bg-color: #3B4455;\n",
              "      --disabled-fill-color: #666;\n",
              "  }\n",
              "\n",
              "  .colab-df-quickchart {\n",
              "    background-color: var(--bg-color);\n",
              "    border: none;\n",
              "    border-radius: 50%;\n",
              "    cursor: pointer;\n",
              "    display: none;\n",
              "    fill: var(--fill-color);\n",
              "    height: 32px;\n",
              "    padding: 0;\n",
              "    width: 32px;\n",
              "  }\n",
              "\n",
              "  .colab-df-quickchart:hover {\n",
              "    background-color: var(--hover-bg-color);\n",
              "    box-shadow: 0 1px 2px rgba(60, 64, 67, 0.3), 0 1px 3px 1px rgba(60, 64, 67, 0.15);\n",
              "    fill: var(--button-hover-fill-color);\n",
              "  }\n",
              "\n",
              "  .colab-df-quickchart-complete:disabled,\n",
              "  .colab-df-quickchart-complete:disabled:hover {\n",
              "    background-color: var(--disabled-bg-color);\n",
              "    fill: var(--disabled-fill-color);\n",
              "    box-shadow: none;\n",
              "  }\n",
              "\n",
              "  .colab-df-spinner {\n",
              "    border: 2px solid var(--fill-color);\n",
              "    border-color: transparent;\n",
              "    border-bottom-color: var(--fill-color);\n",
              "    animation:\n",
              "      spin 1s steps(1) infinite;\n",
              "  }\n",
              "\n",
              "  @keyframes spin {\n",
              "    0% {\n",
              "      border-color: transparent;\n",
              "      border-bottom-color: var(--fill-color);\n",
              "      border-left-color: var(--fill-color);\n",
              "    }\n",
              "    20% {\n",
              "      border-color: transparent;\n",
              "      border-left-color: var(--fill-color);\n",
              "      border-top-color: var(--fill-color);\n",
              "    }\n",
              "    30% {\n",
              "      border-color: transparent;\n",
              "      border-left-color: var(--fill-color);\n",
              "      border-top-color: var(--fill-color);\n",
              "      border-right-color: var(--fill-color);\n",
              "    }\n",
              "    40% {\n",
              "      border-color: transparent;\n",
              "      border-right-color: var(--fill-color);\n",
              "      border-top-color: var(--fill-color);\n",
              "    }\n",
              "    60% {\n",
              "      border-color: transparent;\n",
              "      border-right-color: var(--fill-color);\n",
              "    }\n",
              "    80% {\n",
              "      border-color: transparent;\n",
              "      border-right-color: var(--fill-color);\n",
              "      border-bottom-color: var(--fill-color);\n",
              "    }\n",
              "    90% {\n",
              "      border-color: transparent;\n",
              "      border-bottom-color: var(--fill-color);\n",
              "    }\n",
              "  }\n",
              "</style>\n",
              "\n",
              "  <script>\n",
              "    async function quickchart(key) {\n",
              "      const quickchartButtonEl =\n",
              "        document.querySelector('#' + key + ' button');\n",
              "      quickchartButtonEl.disabled = true;  // To prevent multiple clicks.\n",
              "      quickchartButtonEl.classList.add('colab-df-spinner');\n",
              "      try {\n",
              "        const charts = await google.colab.kernel.invokeFunction(\n",
              "            'suggestCharts', [key], {});\n",
              "      } catch (error) {\n",
              "        console.error('Error during call to suggestCharts:', error);\n",
              "      }\n",
              "      quickchartButtonEl.classList.remove('colab-df-spinner');\n",
              "      quickchartButtonEl.classList.add('colab-df-quickchart-complete');\n",
              "    }\n",
              "    (() => {\n",
              "      let quickchartButtonEl =\n",
              "        document.querySelector('#df-8b85ac15-5a7a-4665-b567-31e83b431f3d button');\n",
              "      quickchartButtonEl.style.display =\n",
              "        google.colab.kernel.accessAllowed ? 'block' : 'none';\n",
              "    })();\n",
              "  </script>\n",
              "</div>\n",
              "    </div>\n",
              "  </div>\n"
            ],
            "application/vnd.google.colaboratory.intrinsic+json": {
              "type": "dataframe",
              "variable_name": "interactions_df",
              "summary": "{\n  \"name\": \"interactions_df\",\n  \"rows\": 72312,\n  \"fields\": [\n    {\n      \"column\": \"timestamp\",\n      \"properties\": {\n        \"dtype\": \"number\",\n        \"std\": 7258130,\n        \"min\": 1457963676,\n        \"max\": 1488309711,\n        \"samples\": [\n          1478704125,\n          1463321913,\n          1464900899\n        ],\n        \"num_unique_values\": 68772,\n        \"semantic_type\": \"\",\n        \"description\": \"\"\n      }\n    },\n    {\n      \"column\": \"eventType\",\n      \"properties\": {\n        \"dtype\": \"category\",\n        \"samples\": [\n          \"FOLLOW\",\n          \"COMMENT CREATED\",\n          \"BOOKMARK\"\n        ],\n        \"num_unique_values\": 5,\n        \"semantic_type\": \"\",\n        \"description\": \"\"\n      }\n    },\n    {\n      \"column\": \"contentId\",\n      \"properties\": {\n        \"dtype\": \"number\",\n        \"std\": 5344755029847182336,\n        \"min\": -9222795471790223670,\n        \"max\": 9222265156747237864,\n        \"samples\": [\n          -8009994379436553252,\n          -5482295111885355605,\n          -4336355219396419841\n        ],\n        \"num_unique_values\": 2987,\n        \"semantic_type\": \"\",\n        \"description\": \"\"\n      }\n    },\n    {\n      \"column\": \"personId\",\n      \"properties\": {\n        \"dtype\": \"number\",\n        \"std\": 5022332594737767424,\n        \"min\": -9223121837663643404,\n        \"max\": 9210530975708218054,\n        \"samples\": [\n          8667275116635296267,\n          2976142380064454474,\n          1498116869772772394\n        ],\n        \"num_unique_values\": 1895,\n        \"semantic_type\": \"\",\n        \"description\": \"\"\n      }\n    },\n    {\n      \"column\": \"sessionId\",\n      \"properties\": {\n        \"dtype\": \"number\",\n        \"std\": 5344354584435588096,\n        \"min\": -9222505379480129080,\n        \"max\": 9223314460691383944,\n        \"samples\": [\n          8363932860547166328,\n          -2705538937580394192,\n          -787140975470877978\n        ],\n        \"num_unique_values\": 28740,\n        \"semantic_type\": \"\",\n        \"description\": \"\"\n      }\n    },\n    {\n      \"column\": \"userAgent\",\n      \"properties\": {\n        \"dtype\": \"category\",\n        \"samples\": [\n          \"Mozilla/5.0 (Windows NT 6.1; Win64; x64) AppleWebKit/537.36 (KHTML, like Gecko) Chrome/54.0.2840.71 Safari/537.36\",\n          \"Mozilla/5.0 (Macintosh; Intel Mac OS X 10_11_6) AppleWebKit/537.36 (KHTML, like Gecko) Chrome/55.0.2883.95 Safari/537.36\",\n          \"Mozilla/5.0 (X11; CrOS x86_64 8872.73.0) AppleWebKit/537.36 (KHTML, like Gecko) Chrome/55.0.2883.103 Safari/537.36\"\n        ],\n        \"num_unique_values\": 1090,\n        \"semantic_type\": \"\",\n        \"description\": \"\"\n      }\n    },\n    {\n      \"column\": \"userRegion\",\n      \"properties\": {\n        \"dtype\": \"category\",\n        \"samples\": [\n          \"PR\",\n          \"NY\",\n          \"RS\"\n        ],\n        \"num_unique_values\": 71,\n        \"semantic_type\": \"\",\n        \"description\": \"\"\n      }\n    },\n    {\n      \"column\": \"userCountry\",\n      \"properties\": {\n        \"dtype\": \"category\",\n        \"samples\": [\n          \"MY\",\n          \"IS\",\n          \"US\"\n        ],\n        \"num_unique_values\": 23,\n        \"semantic_type\": \"\",\n        \"description\": \"\"\n      }\n    }\n  ]\n}"
            }
          },
          "metadata": {},
          "execution_count": 3
        }
      ]
    },
    {
      "cell_type": "code",
      "execution_count": null,
      "metadata": {
        "id": "CL9lEVCX7NUH"
      },
      "outputs": [],
      "source": [
        "interactions_df.personId = interactions_df.personId.astype(str)\n",
        "interactions_df.contentId = interactions_df.contentId.astype(str)"
      ]
    },
    {
      "cell_type": "code",
      "source": [
        "nb_articles = len(interactions_df['contentId'].unique())\n",
        "nb_users = len(interactions_df['personId'].unique())\n",
        "\n",
        "print(f'Distinct articles: \\t{nb_articles}')\n",
        "print(f'Distinct users: \\t{nb_users}')"
      ],
      "metadata": {
        "colab": {
          "base_uri": "https://localhost:8080/"
        },
        "id": "R2t7QXau1VrN",
        "outputId": "1d829a34-f970-4b08-e9ae-f8b3c0176a83"
      },
      "execution_count": null,
      "outputs": [
        {
          "output_type": "stream",
          "name": "stdout",
          "text": [
            "Distinct articles: \t2987\n",
            "Distinct users: \t1895\n"
          ]
        }
      ]
    },
    {
      "cell_type": "markdown",
      "metadata": {
        "id": "WBuwRpLT7NUH"
      },
      "source": [
        "## Data preprocessing"
      ]
    },
    {
      "cell_type": "markdown",
      "metadata": {
        "id": "3JdRT3Fp7NUH"
      },
      "source": [
        "There are different types of interactions (`eventType` column) logged in the dataset:\n",
        "\n",
        "* `VIEW`: The user opened the article.\n",
        "* `LIKE`: The user liked the article.\n",
        "* `COMMENT CREATED`: The user created a comment in the article.\n",
        "* `FOLLOW`: The user chose to be notified on any new comment in the article.\n",
        "* `BOOKMARK`: The user bookmarked the article for easy return in the future.\n",
        "\n",
        "We need to get some integrated quantitative measure to represent the interaction between a user and an article (an item)."
      ]
    },
    {
      "cell_type": "markdown",
      "metadata": {
        "id": "YxW0LghAQMMz"
      },
      "source": [
        "Do the following preprocessing:\n",
        "\n",
        "* Encode interaction types with numbers:\n",
        "  * `VIEW`: `1.0`\n",
        "  * `LIKE`: `2.0`\n",
        "  * `COMMENT CREATED`: `2.5`\n",
        "  * `FOLLOW`: `3.0`\n",
        "  * `BOOKMARK`: `4.0`\n",
        "\n",
        "* For each tuple (user, article) calculate:\n",
        "  * base-2 logarithm of 1 plus the sum of all the numeric representations of the corresponding interactions,\n",
        "  * timestamp corresponding to the last interaction.\n",
        "\n",
        "* Keep in the dataset only those users who interacted with at least 5 articles (i.e. remove \"cold\" users). Display the percentage of dropped rows.\n",
        "\n",
        "* Encapsulate all the previous steps in a function to be able to easily replace the logic if needed."
      ]
    },
    {
      "cell_type": "markdown",
      "source": [
        "### Encode interaction types with numbers"
      ],
      "metadata": {
        "id": "-fjyLahzbBnK"
      }
    },
    {
      "cell_type": "code",
      "source": [
        "interactions_df['eventType'].value_counts()"
      ],
      "metadata": {
        "colab": {
          "base_uri": "https://localhost:8080/"
        },
        "id": "ypKlEhyw1GMZ",
        "outputId": "67748252-0bf2-4208-adea-08798e9d1409"
      },
      "execution_count": null,
      "outputs": [
        {
          "output_type": "execute_result",
          "data": {
            "text/plain": [
              "VIEW               61086\n",
              "LIKE                5745\n",
              "BOOKMARK            2463\n",
              "COMMENT CREATED     1611\n",
              "FOLLOW              1407\n",
              "Name: eventType, dtype: int64"
            ]
          },
          "metadata": {},
          "execution_count": 6
        }
      ]
    },
    {
      "cell_type": "code",
      "execution_count": null,
      "metadata": {
        "id": "_7ils2bV7NUI"
      },
      "outputs": [],
      "source": [
        "event_type_strength = {\n",
        "   'VIEW': 1.0,\n",
        "   'LIKE': 2.0,\n",
        "   'BOOKMARK': 2.5,\n",
        "   'FOLLOW': 3.0,\n",
        "   'COMMENT CREATED': 4.0,\n",
        "}"
      ]
    },
    {
      "cell_type": "code",
      "execution_count": null,
      "metadata": {
        "id": "Ze3VeqBt7NUI",
        "colab": {
          "base_uri": "https://localhost:8080/"
        },
        "outputId": "d3f9740d-cad4-425e-911e-15312b084ea2"
      },
      "outputs": [
        {
          "output_type": "execute_result",
          "data": {
            "text/plain": [
              "0        1.0\n",
              "1        1.0\n",
              "2        1.0\n",
              "3        3.0\n",
              "4        1.0\n",
              "        ... \n",
              "72307    2.0\n",
              "72308    1.0\n",
              "72309    1.0\n",
              "72310    1.0\n",
              "72311    1.0\n",
              "Name: eventStrength, Length: 72312, dtype: float64"
            ]
          },
          "metadata": {},
          "execution_count": 8
        }
      ],
      "source": [
        "interactions_df['eventStrength'] = interactions_df['eventType'].apply(lambda x: event_type_strength[x])\n",
        "interactions_df['eventStrength']"
      ]
    },
    {
      "cell_type": "markdown",
      "source": [
        "### Merge different interactions for each `<user,article>` pair"
      ],
      "metadata": {
        "id": "_viVNVknbXoX"
      }
    },
    {
      "cell_type": "code",
      "source": [
        "interactions_df = (\n",
        "    interactions_df\n",
        "    .groupby(['personId', 'contentId']).agg(\n",
        "        eventStrength=('eventStrength', lambda x: np.log2(x.sum()+1)),\n",
        "        last_timestamp=('timestamp', 'max')\n",
        "    ).reset_index()\n",
        ")\n",
        "\n",
        "interactions_df"
      ],
      "metadata": {
        "colab": {
          "base_uri": "https://localhost:8080/",
          "height": 423
        },
        "id": "jbv6S7fRRR_d",
        "outputId": "9dc3394b-df15-47e1-f5ff-f4c83fe6b54d"
      },
      "execution_count": null,
      "outputs": [
        {
          "output_type": "execute_result",
          "data": {
            "text/plain": [
              "                   personId             contentId  eventStrength  \\\n",
              "0      -1007001694607905623  -5065077552540450930       1.000000   \n",
              "1      -1007001694607905623  -6623581327558800021       1.000000   \n",
              "2      -1007001694607905623   -793729620925729327       1.000000   \n",
              "3      -1007001694607905623   1469580151036142903       1.000000   \n",
              "4      -1007001694607905623   7270966256391553686       1.584963   \n",
              "...                     ...                   ...            ...   \n",
              "40705    998688566268269815   -401664538366009049       1.000000   \n",
              "40706    998688566268269815   3456674717452933449       2.584963   \n",
              "40707    998688566268269815   6881796783400625893       1.000000   \n",
              "40708    998688566268269815   7174452660053929140       2.321928   \n",
              "40709    998688566268269815    739747367187387064       1.000000   \n",
              "\n",
              "       last_timestamp  \n",
              "0          1470395911  \n",
              "1          1487240080  \n",
              "2          1472834892  \n",
              "3          1487240062  \n",
              "4          1485994342  \n",
              "...               ...  \n",
              "40705      1474567449  \n",
              "40706      1478802088  \n",
              "40707      1474567675  \n",
              "40708      1478812905  \n",
              "40709      1474567514  \n",
              "\n",
              "[40710 rows x 4 columns]"
            ],
            "text/html": [
              "\n",
              "  <div id=\"df-33578ecb-73fb-4c5f-9cad-87064c45b448\" class=\"colab-df-container\">\n",
              "    <div>\n",
              "<style scoped>\n",
              "    .dataframe tbody tr th:only-of-type {\n",
              "        vertical-align: middle;\n",
              "    }\n",
              "\n",
              "    .dataframe tbody tr th {\n",
              "        vertical-align: top;\n",
              "    }\n",
              "\n",
              "    .dataframe thead th {\n",
              "        text-align: right;\n",
              "    }\n",
              "</style>\n",
              "<table border=\"1\" class=\"dataframe\">\n",
              "  <thead>\n",
              "    <tr style=\"text-align: right;\">\n",
              "      <th></th>\n",
              "      <th>personId</th>\n",
              "      <th>contentId</th>\n",
              "      <th>eventStrength</th>\n",
              "      <th>last_timestamp</th>\n",
              "    </tr>\n",
              "  </thead>\n",
              "  <tbody>\n",
              "    <tr>\n",
              "      <th>0</th>\n",
              "      <td>-1007001694607905623</td>\n",
              "      <td>-5065077552540450930</td>\n",
              "      <td>1.000000</td>\n",
              "      <td>1470395911</td>\n",
              "    </tr>\n",
              "    <tr>\n",
              "      <th>1</th>\n",
              "      <td>-1007001694607905623</td>\n",
              "      <td>-6623581327558800021</td>\n",
              "      <td>1.000000</td>\n",
              "      <td>1487240080</td>\n",
              "    </tr>\n",
              "    <tr>\n",
              "      <th>2</th>\n",
              "      <td>-1007001694607905623</td>\n",
              "      <td>-793729620925729327</td>\n",
              "      <td>1.000000</td>\n",
              "      <td>1472834892</td>\n",
              "    </tr>\n",
              "    <tr>\n",
              "      <th>3</th>\n",
              "      <td>-1007001694607905623</td>\n",
              "      <td>1469580151036142903</td>\n",
              "      <td>1.000000</td>\n",
              "      <td>1487240062</td>\n",
              "    </tr>\n",
              "    <tr>\n",
              "      <th>4</th>\n",
              "      <td>-1007001694607905623</td>\n",
              "      <td>7270966256391553686</td>\n",
              "      <td>1.584963</td>\n",
              "      <td>1485994342</td>\n",
              "    </tr>\n",
              "    <tr>\n",
              "      <th>...</th>\n",
              "      <td>...</td>\n",
              "      <td>...</td>\n",
              "      <td>...</td>\n",
              "      <td>...</td>\n",
              "    </tr>\n",
              "    <tr>\n",
              "      <th>40705</th>\n",
              "      <td>998688566268269815</td>\n",
              "      <td>-401664538366009049</td>\n",
              "      <td>1.000000</td>\n",
              "      <td>1474567449</td>\n",
              "    </tr>\n",
              "    <tr>\n",
              "      <th>40706</th>\n",
              "      <td>998688566268269815</td>\n",
              "      <td>3456674717452933449</td>\n",
              "      <td>2.584963</td>\n",
              "      <td>1478802088</td>\n",
              "    </tr>\n",
              "    <tr>\n",
              "      <th>40707</th>\n",
              "      <td>998688566268269815</td>\n",
              "      <td>6881796783400625893</td>\n",
              "      <td>1.000000</td>\n",
              "      <td>1474567675</td>\n",
              "    </tr>\n",
              "    <tr>\n",
              "      <th>40708</th>\n",
              "      <td>998688566268269815</td>\n",
              "      <td>7174452660053929140</td>\n",
              "      <td>2.321928</td>\n",
              "      <td>1478812905</td>\n",
              "    </tr>\n",
              "    <tr>\n",
              "      <th>40709</th>\n",
              "      <td>998688566268269815</td>\n",
              "      <td>739747367187387064</td>\n",
              "      <td>1.000000</td>\n",
              "      <td>1474567514</td>\n",
              "    </tr>\n",
              "  </tbody>\n",
              "</table>\n",
              "<p>40710 rows × 4 columns</p>\n",
              "</div>\n",
              "    <div class=\"colab-df-buttons\">\n",
              "\n",
              "  <div class=\"colab-df-container\">\n",
              "    <button class=\"colab-df-convert\" onclick=\"convertToInteractive('df-33578ecb-73fb-4c5f-9cad-87064c45b448')\"\n",
              "            title=\"Convert this dataframe to an interactive table.\"\n",
              "            style=\"display:none;\">\n",
              "\n",
              "  <svg xmlns=\"http://www.w3.org/2000/svg\" height=\"24px\" viewBox=\"0 -960 960 960\">\n",
              "    <path d=\"M120-120v-720h720v720H120Zm60-500h600v-160H180v160Zm220 220h160v-160H400v160Zm0 220h160v-160H400v160ZM180-400h160v-160H180v160Zm440 0h160v-160H620v160ZM180-180h160v-160H180v160Zm440 0h160v-160H620v160Z\"/>\n",
              "  </svg>\n",
              "    </button>\n",
              "\n",
              "  <style>\n",
              "    .colab-df-container {\n",
              "      display:flex;\n",
              "      gap: 12px;\n",
              "    }\n",
              "\n",
              "    .colab-df-convert {\n",
              "      background-color: #E8F0FE;\n",
              "      border: none;\n",
              "      border-radius: 50%;\n",
              "      cursor: pointer;\n",
              "      display: none;\n",
              "      fill: #1967D2;\n",
              "      height: 32px;\n",
              "      padding: 0 0 0 0;\n",
              "      width: 32px;\n",
              "    }\n",
              "\n",
              "    .colab-df-convert:hover {\n",
              "      background-color: #E2EBFA;\n",
              "      box-shadow: 0px 1px 2px rgba(60, 64, 67, 0.3), 0px 1px 3px 1px rgba(60, 64, 67, 0.15);\n",
              "      fill: #174EA6;\n",
              "    }\n",
              "\n",
              "    .colab-df-buttons div {\n",
              "      margin-bottom: 4px;\n",
              "    }\n",
              "\n",
              "    [theme=dark] .colab-df-convert {\n",
              "      background-color: #3B4455;\n",
              "      fill: #D2E3FC;\n",
              "    }\n",
              "\n",
              "    [theme=dark] .colab-df-convert:hover {\n",
              "      background-color: #434B5C;\n",
              "      box-shadow: 0px 1px 3px 1px rgba(0, 0, 0, 0.15);\n",
              "      filter: drop-shadow(0px 1px 2px rgba(0, 0, 0, 0.3));\n",
              "      fill: #FFFFFF;\n",
              "    }\n",
              "  </style>\n",
              "\n",
              "    <script>\n",
              "      const buttonEl =\n",
              "        document.querySelector('#df-33578ecb-73fb-4c5f-9cad-87064c45b448 button.colab-df-convert');\n",
              "      buttonEl.style.display =\n",
              "        google.colab.kernel.accessAllowed ? 'block' : 'none';\n",
              "\n",
              "      async function convertToInteractive(key) {\n",
              "        const element = document.querySelector('#df-33578ecb-73fb-4c5f-9cad-87064c45b448');\n",
              "        const dataTable =\n",
              "          await google.colab.kernel.invokeFunction('convertToInteractive',\n",
              "                                                    [key], {});\n",
              "        if (!dataTable) return;\n",
              "\n",
              "        const docLinkHtml = 'Like what you see? Visit the ' +\n",
              "          '<a target=\"_blank\" href=https://colab.research.google.com/notebooks/data_table.ipynb>data table notebook</a>'\n",
              "          + ' to learn more about interactive tables.';\n",
              "        element.innerHTML = '';\n",
              "        dataTable['output_type'] = 'display_data';\n",
              "        await google.colab.output.renderOutput(dataTable, element);\n",
              "        const docLink = document.createElement('div');\n",
              "        docLink.innerHTML = docLinkHtml;\n",
              "        element.appendChild(docLink);\n",
              "      }\n",
              "    </script>\n",
              "  </div>\n",
              "\n",
              "\n",
              "<div id=\"df-e6da3dac-bf84-4e7a-b140-6605860da762\">\n",
              "  <button class=\"colab-df-quickchart\" onclick=\"quickchart('df-e6da3dac-bf84-4e7a-b140-6605860da762')\"\n",
              "            title=\"Suggest charts\"\n",
              "            style=\"display:none;\">\n",
              "\n",
              "<svg xmlns=\"http://www.w3.org/2000/svg\" height=\"24px\"viewBox=\"0 0 24 24\"\n",
              "     width=\"24px\">\n",
              "    <g>\n",
              "        <path d=\"M19 3H5c-1.1 0-2 .9-2 2v14c0 1.1.9 2 2 2h14c1.1 0 2-.9 2-2V5c0-1.1-.9-2-2-2zM9 17H7v-7h2v7zm4 0h-2V7h2v10zm4 0h-2v-4h2v4z\"/>\n",
              "    </g>\n",
              "</svg>\n",
              "  </button>\n",
              "\n",
              "<style>\n",
              "  .colab-df-quickchart {\n",
              "      --bg-color: #E8F0FE;\n",
              "      --fill-color: #1967D2;\n",
              "      --hover-bg-color: #E2EBFA;\n",
              "      --hover-fill-color: #174EA6;\n",
              "      --disabled-fill-color: #AAA;\n",
              "      --disabled-bg-color: #DDD;\n",
              "  }\n",
              "\n",
              "  [theme=dark] .colab-df-quickchart {\n",
              "      --bg-color: #3B4455;\n",
              "      --fill-color: #D2E3FC;\n",
              "      --hover-bg-color: #434B5C;\n",
              "      --hover-fill-color: #FFFFFF;\n",
              "      --disabled-bg-color: #3B4455;\n",
              "      --disabled-fill-color: #666;\n",
              "  }\n",
              "\n",
              "  .colab-df-quickchart {\n",
              "    background-color: var(--bg-color);\n",
              "    border: none;\n",
              "    border-radius: 50%;\n",
              "    cursor: pointer;\n",
              "    display: none;\n",
              "    fill: var(--fill-color);\n",
              "    height: 32px;\n",
              "    padding: 0;\n",
              "    width: 32px;\n",
              "  }\n",
              "\n",
              "  .colab-df-quickchart:hover {\n",
              "    background-color: var(--hover-bg-color);\n",
              "    box-shadow: 0 1px 2px rgba(60, 64, 67, 0.3), 0 1px 3px 1px rgba(60, 64, 67, 0.15);\n",
              "    fill: var(--button-hover-fill-color);\n",
              "  }\n",
              "\n",
              "  .colab-df-quickchart-complete:disabled,\n",
              "  .colab-df-quickchart-complete:disabled:hover {\n",
              "    background-color: var(--disabled-bg-color);\n",
              "    fill: var(--disabled-fill-color);\n",
              "    box-shadow: none;\n",
              "  }\n",
              "\n",
              "  .colab-df-spinner {\n",
              "    border: 2px solid var(--fill-color);\n",
              "    border-color: transparent;\n",
              "    border-bottom-color: var(--fill-color);\n",
              "    animation:\n",
              "      spin 1s steps(1) infinite;\n",
              "  }\n",
              "\n",
              "  @keyframes spin {\n",
              "    0% {\n",
              "      border-color: transparent;\n",
              "      border-bottom-color: var(--fill-color);\n",
              "      border-left-color: var(--fill-color);\n",
              "    }\n",
              "    20% {\n",
              "      border-color: transparent;\n",
              "      border-left-color: var(--fill-color);\n",
              "      border-top-color: var(--fill-color);\n",
              "    }\n",
              "    30% {\n",
              "      border-color: transparent;\n",
              "      border-left-color: var(--fill-color);\n",
              "      border-top-color: var(--fill-color);\n",
              "      border-right-color: var(--fill-color);\n",
              "    }\n",
              "    40% {\n",
              "      border-color: transparent;\n",
              "      border-right-color: var(--fill-color);\n",
              "      border-top-color: var(--fill-color);\n",
              "    }\n",
              "    60% {\n",
              "      border-color: transparent;\n",
              "      border-right-color: var(--fill-color);\n",
              "    }\n",
              "    80% {\n",
              "      border-color: transparent;\n",
              "      border-right-color: var(--fill-color);\n",
              "      border-bottom-color: var(--fill-color);\n",
              "    }\n",
              "    90% {\n",
              "      border-color: transparent;\n",
              "      border-bottom-color: var(--fill-color);\n",
              "    }\n",
              "  }\n",
              "</style>\n",
              "\n",
              "  <script>\n",
              "    async function quickchart(key) {\n",
              "      const quickchartButtonEl =\n",
              "        document.querySelector('#' + key + ' button');\n",
              "      quickchartButtonEl.disabled = true;  // To prevent multiple clicks.\n",
              "      quickchartButtonEl.classList.add('colab-df-spinner');\n",
              "      try {\n",
              "        const charts = await google.colab.kernel.invokeFunction(\n",
              "            'suggestCharts', [key], {});\n",
              "      } catch (error) {\n",
              "        console.error('Error during call to suggestCharts:', error);\n",
              "      }\n",
              "      quickchartButtonEl.classList.remove('colab-df-spinner');\n",
              "      quickchartButtonEl.classList.add('colab-df-quickchart-complete');\n",
              "    }\n",
              "    (() => {\n",
              "      let quickchartButtonEl =\n",
              "        document.querySelector('#df-e6da3dac-bf84-4e7a-b140-6605860da762 button');\n",
              "      quickchartButtonEl.style.display =\n",
              "        google.colab.kernel.accessAllowed ? 'block' : 'none';\n",
              "    })();\n",
              "  </script>\n",
              "</div>\n",
              "    </div>\n",
              "  </div>\n"
            ],
            "application/vnd.google.colaboratory.intrinsic+json": {
              "type": "dataframe",
              "variable_name": "interactions_df",
              "summary": "{\n  \"name\": \"interactions_df\",\n  \"rows\": 40710,\n  \"fields\": [\n    {\n      \"column\": \"personId\",\n      \"properties\": {\n        \"dtype\": \"category\",\n        \"samples\": [\n          \"4254153380739593270\",\n          \"-6310269237680935639\",\n          \"1203596964328222768\"\n        ],\n        \"num_unique_values\": 1895,\n        \"semantic_type\": \"\",\n        \"description\": \"\"\n      }\n    },\n    {\n      \"column\": \"contentId\",\n      \"properties\": {\n        \"dtype\": \"category\",\n        \"samples\": [\n          \"5005421293875190218\",\n          \"2727743992157210358\",\n          \"8129909026510620711\"\n        ],\n        \"num_unique_values\": 2987,\n        \"semantic_type\": \"\",\n        \"description\": \"\"\n      }\n    },\n    {\n      \"column\": \"eventStrength\",\n      \"properties\": {\n        \"dtype\": \"number\",\n        \"std\": 0.6818896460014205,\n        \"min\": 1.0,\n        \"max\": 7.851749041416057,\n        \"samples\": [\n          4.584962500721156,\n          1.0,\n          4.426264754702098\n        ],\n        \"num_unique_values\": 70,\n        \"semantic_type\": \"\",\n        \"description\": \"\"\n      }\n    },\n    {\n      \"column\": \"last_timestamp\",\n      \"properties\": {\n        \"dtype\": \"number\",\n        \"std\": 7574571,\n        \"min\": 1457964607,\n        \"max\": 1488309711,\n        \"samples\": [\n          1472134489,\n          1471956957,\n          1460382999\n        ],\n        \"num_unique_values\": 40483,\n        \"semantic_type\": \"\",\n        \"description\": \"\"\n      }\n    }\n  ]\n}"
            }
          },
          "metadata": {},
          "execution_count": 9
        }
      ]
    },
    {
      "cell_type": "markdown",
      "source": [
        "### Remove \"cold\" users"
      ],
      "metadata": {
        "id": "hgIZbzmGsZdo"
      }
    },
    {
      "cell_type": "code",
      "source": [
        "users_interactions_count = interactions_df.groupby('personId').size()\n",
        "users_interactions_count"
      ],
      "metadata": {
        "colab": {
          "base_uri": "https://localhost:8080/"
        },
        "id": "1gCzkW-caIMK",
        "outputId": "f22b183d-b94a-4b51-ce01-ba6191bfe95c"
      },
      "execution_count": null,
      "outputs": [
        {
          "output_type": "execute_result",
          "data": {
            "text/plain": [
              "personId\n",
              "-1007001694607905623      6\n",
              "-1032019229384696495    648\n",
              "-108842214936804958     270\n",
              "-1093393486211919385      2\n",
              "-1110220372195277179      3\n",
              "                       ... \n",
              "987030274299018507        3\n",
              "989049974880576288       19\n",
              "98958074799194811         4\n",
              "997469202936578234       17\n",
              "998688566268269815        6\n",
              "Length: 1895, dtype: int64"
            ]
          },
          "metadata": {},
          "execution_count": 10
        }
      ]
    },
    {
      "cell_type": "code",
      "execution_count": null,
      "metadata": {
        "id": "5Pl5RgXO7NUI",
        "colab": {
          "base_uri": "https://localhost:8080/"
        },
        "outputId": "251ed2fb-77a5-4ff7-8a27-4ad6f03fb30c"
      },
      "outputs": [
        {
          "output_type": "stream",
          "name": "stdout",
          "text": [
            "number of users: 1895\n",
            "number of ratings (<user,item> pairs): 40710\n",
            "\n",
            "number of users with at least 5 interactions: 1140 (60.2%)\n",
            "number of ratings (<user,item> pairs) for users with at least 5 interactions: 39106 (96.1%)\n"
          ]
        }
      ],
      "source": [
        "threshold_non_cold_users = 5\n",
        "\n",
        "users_interactions_count_non_cold = users_interactions_count[users_interactions_count >= threshold_non_cold_users]\n",
        "interactions_non_cold = interactions_df.loc[np.in1d(interactions_df.personId, users_interactions_count_non_cold.index)]\n",
        "\n",
        "nb_users = len(users_interactions_count)\n",
        "nb_users_non_cold = len(users_interactions_count_non_cold)\n",
        "\n",
        "nb_ratings = len(interactions_df)\n",
        "nb_ratings_non_cold_users = len(interactions_non_cold)\n",
        "\n",
        "print(f'number of users: {nb_users}')\n",
        "print(f'number of ratings (<user,item> pairs): {nb_ratings}')\n",
        "print()\n",
        "\n",
        "print(f'number of users with at least {threshold_non_cold_users} interactions: {nb_users_non_cold} ({nb_users_non_cold*100/nb_users:.1f}%)')\n",
        "print(f'number of ratings (<user,item> pairs) for users with at least {threshold_non_cold_users} interactions: {nb_ratings_non_cold_users} ({nb_ratings_non_cold_users*100/nb_ratings:.1f}%)')"
      ]
    },
    {
      "cell_type": "code",
      "execution_count": null,
      "metadata": {
        "id": "w-5mU7u57NUJ",
        "colab": {
          "base_uri": "https://localhost:8080/",
          "height": 430
        },
        "outputId": "1c20bf8b-e122-44b2-971e-a86d415ddc0c"
      },
      "outputs": [
        {
          "output_type": "display_data",
          "data": {
            "text/plain": [
              "<Figure size 640x480 with 1 Axes>"
            ],
            "image/png": "[encoded data removed]"
          },
          "metadata": {}
        }
      ],
      "source": [
        "# users_interactions_count_df.hist(bins=30);\n",
        "users_interactions_count_non_cold.hist(bins=30);"
      ]
    },
    {
      "cell_type": "code",
      "source": [
        "users_interactions_count_non_cold[users_interactions_count_non_cold<users_interactions_count_non_cold.quantile(.95)].hist(bins=30);"
      ],
      "metadata": {
        "colab": {
          "base_uri": "https://localhost:8080/",
          "height": 430
        },
        "id": "41_iUUgVsB_9",
        "outputId": "25a408f1-8745-4b49-c0fd-cf94f9fc8258"
      },
      "execution_count": null,
      "outputs": [
        {
          "output_type": "display_data",
          "data": {
            "text/plain": [
              "<Figure size 640x480 with 1 Axes>"
            ],
            "image/png": "[encoded data removed]"
          },
          "metadata": {}
        }
      ]
    },
    {
      "cell_type": "markdown",
      "metadata": {
        "id": "RQz51IpusqtX"
      },
      "source": [
        "## Modeling\n",
        "\n",
        "* Split data into train (75%) and test (25%) sets by timestamp.\n",
        "* Implement collaborative filtering on train data:\n",
        "  * user based\n",
        "  * pearson similarity\n",
        "* Evaluate the model on test data using the mean precision@10.\n",
        "* Apply SVD algorithm, evaluate the results, and compare them with those got with simple collaborative filtering."
      ]
    },
    {
      "cell_type": "markdown",
      "source": [
        "### Split data"
      ],
      "metadata": {
        "id": "04NecB2Ps2LX"
      }
    },
    {
      "cell_type": "code",
      "metadata": {
        "id": "CMwzU4-_FGmF"
      },
      "source": [
        "def train_test_split(data, user_col, item_col, rating_col, time_col, test_size=0.25):\n",
        "\n",
        "    # sort data by time: test data must correspond to the period which is after the period of train data\n",
        "    data = data.sort_values(by=[time_col])\n",
        "\n",
        "    users = data[user_col].unique()\n",
        "    train_size = 1 - test_size\n",
        "    X_train_users, X_test_users, y_train_users, y_test_users = [], [], [], []\n",
        "\n",
        "    # tqdm displays a progress bar\n",
        "    for user in tqdm(users, desc='users'):\n",
        "      # get data only for a given user\n",
        "      cur_user = data[data[user_col] == user]\n",
        "      # index to split data by user\n",
        "      idx = int(len(cur_user) * train_size)\n",
        "      X_train_users.append(cur_user[[user_col, item_col]].iloc[:idx, :].values)\n",
        "      X_test_users.append(cur_user[[user_col, item_col]].iloc[idx:, :].values)\n",
        "      y_train_users.append(cur_user[rating_col].values[:idx])\n",
        "      y_test_users.append(cur_user[rating_col].values[idx:])\n",
        "\n",
        "    # stack data\n",
        "    X_train = pd.DataFrame(np.vstack(X_train_users), columns=[user_col, item_col])\n",
        "    X_test = pd.DataFrame(np.vstack(X_test_users), columns=[user_col, item_col])\n",
        "    y_train = pd.Series(np.hstack(y_train_users), name=rating_col)\n",
        "    y_test = pd.Series(np.hstack(y_test_users), name=rating_col)\n",
        "\n",
        "    return X_train, X_test, y_train, y_test"
      ],
      "execution_count": null,
      "outputs": []
    },
    {
      "cell_type": "code",
      "source": [
        "X_train, X_test, y_train, y_test = train_test_split(\n",
        "    interactions_non_cold, test_size=0.25,\n",
        "    user_col='personId', item_col='contentId',\n",
        "    rating_col='eventStrength', time_col='last_timestamp')\n",
        "\n",
        "X_train.shape, X_test.shape, y_train.shape, y_test.shape"
      ],
      "metadata": {
        "colab": {
          "base_uri": "https://localhost:8080/",
          "height": 67,
          "referenced_widgets": [
            "b953234c0ec4486faf49fa2901f07d97",
            "ec4ce6596c56497997c7f475de104237",
            "982e845248be47cf8157cb511a51779b",
            "adde5c6ba1894cbc9f9bf63ea9d165cc",
            "db6c558df0b94bbcbe1435bb5b10abc3",
            "7b26522f466b4e468aa076cd292b4099",
            "5ea6dd35d03749e9b98d8d3382503e3e",
            "85472ea526c44aa8ac92d3e7fe47fd18",
            "438637d7220a439cb3234ff3d78c4dd7",
            "d089c0dddfe94f3c91462ffd9a4cd5a6",
            "cf19422218074a3183a322f489d9ddbb"
          ]
        },
        "id": "2be1GJXsuGdh",
        "outputId": "78c7d2ba-9583-4463-ba42-162601443db3"
      },
      "execution_count": null,
      "outputs": [
        {
          "output_type": "display_data",
          "data": {
            "text/plain": [
              "users:   0%|          | 0/1140 [00:00<?, ?it/s]"
            ],
            "application/vnd.jupyter.widget-view+json": {
              "version_major": 2,
              "version_minor": 0,
              "model_id": "b953234c0ec4486faf49fa2901f07d97"
            }
          },
          "metadata": {}
        },
        {
          "output_type": "execute_result",
          "data": {
            "text/plain": [
              "((28869, 2), (10237, 2), (28869,), (10237,))"
            ]
          },
          "metadata": {},
          "execution_count": 15
        }
      ]
    },
    {
      "cell_type": "markdown",
      "metadata": {
        "id": "h1Z2axYX7NUK"
      },
      "source": [
        "For each user (`personId`) prepare list of train and test items (`contentId`)."
      ]
    },
    {
      "cell_type": "markdown",
      "metadata": {
        "id": "fO4DZi6g7NUN"
      },
      "source": [
        "### User-user collaborative filtering"
      ]
    },
    {
      "cell_type": "code",
      "source": [
        "from sklearn.base import BaseEstimator\n",
        "from sklearn.metrics.pairwise import cosine_similarity\n",
        "from sklearn.metrics import mean_squared_error\n",
        "\n",
        "class CollaborativeFiltering(BaseEstimator):\n",
        "\n",
        "    sim_methods = ['cosine', 'pearson']\n",
        "\n",
        "    def __init__(self, sim_method=\"cosine\", user_based=False):\n",
        "\n",
        "        BaseEstimator.__init__(self)\n",
        "\n",
        "        if sim_method not in self.sim_methods:\n",
        "            raise ValueError(f\"Bad value for sim_method: only {self.sim_methods} methods are supported\")\n",
        "\n",
        "        self.sim_method = sim_method\n",
        "        self.user_based = user_based\n",
        "        return\n",
        "\n",
        "    def fit(self, X, y, user_col='userId', item_col='movieId'):\n",
        "\n",
        "        X = X.copy()\n",
        "\n",
        "        # add target as column to X\n",
        "        X['y'] = y\n",
        "\n",
        "        self.users = X[user_col].unique()\n",
        "        self.items = X[item_col].unique()\n",
        "\n",
        "        if self.user_based:\n",
        "            # users x items matrix\n",
        "            row_dim = user_col\n",
        "            col_dim = item_col\n",
        "        else:\n",
        "            # items x users matrix\n",
        "            row_dim = item_col\n",
        "            col_dim = user_col\n",
        "\n",
        "        # calculate the average rating by user or by item\n",
        "        self.mean_y = X.groupby(row_dim)['y'].mean()\n",
        "        # for each user subtract from the rating their average rating\n",
        "        X['y_centered'] = X['y'] - X[row_dim].apply(lambda x: self.mean_y[x])\n",
        "\n",
        "        # create user-item matrix with (transformed) ratings\n",
        "        # users by rows and items by columns\n",
        "        # replace missing values with 0\n",
        "        self.ratings_matrix = pd.pivot_table(X, values='y', index=row_dim, columns=col_dim, fill_value=0)\n",
        "        self.ratings_matrix_centered = pd.pivot_table(X, values='y_centered', index=row_dim, columns=col_dim, fill_value=0)\n",
        "\n",
        "        if self.user_based:\n",
        "            # users x items matrix\n",
        "            raw_ids_users = self.ratings_matrix.index\n",
        "            raw_ids_items = self.ratings_matrix.columns\n",
        "        else:\n",
        "            # items x users matrix\n",
        "            raw_ids_users = self.ratings_matrix.columns\n",
        "            raw_ids_items = self.ratings_matrix.index\n",
        "\n",
        "        # create dictionaries for users and items { raw id: inner id (index) in ratings }\n",
        "        self.users_inner_id = dict()\n",
        "        for user in self.users:\n",
        "            self.users_inner_id[user] = raw_ids_users.get_loc(user)\n",
        "\n",
        "        self.items_inner_id = dict()\n",
        "        for item in self.items:\n",
        "            self.items_inner_id[item] = raw_ids_items.get_loc(item)\n",
        "\n",
        "        # convert from pd.DataFrame to numpy matrix: computing optimization\n",
        "        self.ratings_matrix = self.ratings_matrix.values\n",
        "        self.ratings_matrix_centered = self.ratings_matrix_centered.values\n",
        "\n",
        "        # calculate the pairwise similarities between all samples (rows) in ratings matrix.\n",
        "        if self.sim_method == 'cosine':\n",
        "            self.sim_matrix = cosine_similarity(self.ratings_matrix)\n",
        "        elif self.sim_method == 'pearson':\n",
        "            # The Pearson correlation coefficient can be seen as a mean-centered cosine similarity,\n",
        "            self.sim_matrix = cosine_similarity(self.ratings_matrix_centered)\n",
        "            # self.sim_matrix = np.nan_to_num(np.corrcoef(self.ratings_matrix))\n",
        "\n",
        "        return self\n",
        "\n",
        "    def predict_rating(self, user, item, sim_threshhold=None):\n",
        "\n",
        "        # return 0 for unknown users and items\n",
        "        if item not in self.items or user not in self.users:\n",
        "            return 0\n",
        "\n",
        "        # cur_user_inner_id = self.users_inner_id[user]\n",
        "        # cur_item_inner_id = self.items_inner_id[user]\n",
        "\n",
        "        if self.user_based:\n",
        "            # users x items matrix\n",
        "            row_inner_id = self.users_inner_id[user]\n",
        "            col_inner_id = self.items_inner_id[item]\n",
        "            mean_rating = self.mean_y[user]\n",
        "        else:\n",
        "            # items x users matrix\n",
        "            row_inner_id = self.items_inner_id[item]\n",
        "            col_inner_id = self.users_inner_id[user]\n",
        "            mean_rating = self.mean_y[item]\n",
        "\n",
        "        sim_coefs = self.sim_matrix[row_inner_id]\n",
        "        neighbours_inner_id = np.arange(len(sim_coefs))\n",
        "\n",
        "        # don't consider the user themselves as neighbours\n",
        "        neighbours_inner_id = np.delete(neighbours_inner_id, row_inner_id)\n",
        "        sim_coefs = np.delete(sim_coefs, row_inner_id)\n",
        "\n",
        "        if sim_threshhold is not None:\n",
        "            neighbours_inner_id = np.where(sim_coefs > sim_threshhold)[0]\n",
        "            sim_coefs = sim_coefs[neighbours_inner_id]\n",
        "\n",
        "        # get neighbours ratings\n",
        "        # neighbours_ratings = self.ratings_matrix[neighbours_inner_id, col_inner_id]\n",
        "        neighbours_ratings = self.ratings_matrix_centered[neighbours_inner_id, col_inner_id]\n",
        "\n",
        "        # calculate numerator and denominator from rating estimation formula\n",
        "        numerator = sim_coefs.dot(neighbours_ratings)\n",
        "        denominator = np.abs(sim_coefs).sum()\n",
        "\n",
        "        if denominator == 0:\n",
        "            prediction = mean_rating\n",
        "        else:\n",
        "            prediction = mean_rating + numerator / denominator\n",
        "\n",
        "        return prediction\n",
        "\n",
        "    def predict(self, X, user_col='userId', item_col='movieId', sim_threshhold=None):\n",
        "        # y = X[[user_col, item_col]].apply(lambda row: self.predict_rating(row[user_col], row[item_col], sim_threshhold), axis=1)\n",
        "        X_np = X[[user_col, item_col]].values\n",
        "        i = 0\n",
        "        y = np.zeros(len(X_np))\n",
        "        for row in tqdm(X_np, desc='Predictions'):\n",
        "            y[i] = self.predict_rating(row[0], row[1], sim_threshhold)\n",
        "            i += 1\n",
        "        return y"
      ],
      "metadata": {
        "id": "QMh7_ZoJv9yH"
      },
      "execution_count": null,
      "outputs": []
    },
    {
      "cell_type": "code",
      "execution_count": null,
      "metadata": {
        "id": "QG7azMEM7NUO",
        "colab": {
          "base_uri": "https://localhost:8080/",
          "height": 138,
          "referenced_widgets": [
            "ecea226e3c704317b78196844a559920",
            "36527e60244742148882e00fa404725d",
            "1033853cd57a407cb8d4c05167184bb5",
            "ed8d0f5eab2c4b05b03f76738e606ffe",
            "1335f3b4c7b44e17a23eeac32b2aaa2b",
            "2d5fa2da275a4a7daca051d85ead0133",
            "66403b7f0acf43d3bb25ef6422c04af4",
            "90e962c4f3de46fb915812ab5bd69f4a",
            "cbcffc914fb342c792957f13c2d6215c",
            "b9ab1384c6f046e7ae4d180bedf6561a",
            "ad53c8454d49430191ca724e5bd1dbe5"
          ]
        },
        "outputId": "5b8658a5-495a-47dc-dca3-85e6c452294a"
      },
      "outputs": [
        {
          "output_type": "stream",
          "name": "stdout",
          "text": [
            "start fitting...\n",
            "start predicting...\n"
          ]
        },
        {
          "output_type": "display_data",
          "data": {
            "text/plain": [
              "Predictions:   0%|          | 0/10237 [00:00<?, ?it/s]"
            ],
            "application/vnd.jupyter.widget-view+json": {
              "version_major": 2,
              "version_minor": 0,
              "model_id": "ecea226e3c704317b78196844a559920"
            }
          },
          "metadata": {}
        },
        {
          "output_type": "stream",
          "name": "stdout",
          "text": [
            "rmse = 0.90\n",
            "CPU times: user 3.67 s, sys: 197 ms, total: 3.86 s\n",
            "Wall time: 3.75 s\n"
          ]
        }
      ],
      "source": [
        "%%time\n",
        "print('start fitting...')\n",
        "ubcf = CollaborativeFiltering(sim_method='pearson', user_based=True)\n",
        "ubcf.fit(X_train, y_train, user_col='personId', item_col='contentId')\n",
        "\n",
        "print('start predicting...')\n",
        "y_pred = ubcf.predict(X_test, user_col='personId', item_col='contentId')\n",
        "rmse_score = mean_squared_error(y_test, y_pred, squared=False)\n",
        "print(f'rmse = {rmse_score:.2f}')"
      ]
    },
    {
      "cell_type": "markdown",
      "source": [
        "### Evaluation\n",
        "\n",
        "Metric to use is the mean precision@10."
      ],
      "metadata": {
        "id": "XRx3qKq3tfCM"
      }
    },
    {
      "cell_type": "code",
      "source": [
        "users = X_train['personId'].unique()\n",
        "items = X_train['contentId'].unique()\n",
        "len(users) * len(items)"
      ],
      "metadata": {
        "colab": {
          "base_uri": "https://localhost:8080/"
        },
        "id": "D1oSy37bxPw2",
        "outputId": "352e8206-8155-4cfc-a34a-305a8d8b3c60"
      },
      "execution_count": null,
      "outputs": [
        {
          "output_type": "execute_result",
          "data": {
            "text/plain": [
              "3090540"
            ]
          },
          "metadata": {},
          "execution_count": 18
        }
      ]
    },
    {
      "cell_type": "markdown",
      "source": [
        "#### Example for user 0"
      ],
      "metadata": {
        "id": "EfZPGjb1PmXY"
      }
    },
    {
      "cell_type": "code",
      "source": [
        "items_user0_viewed = X_train[X_train['personId'] == users[0]]['contentId'].values\n",
        "items_user0_non_viewed = items[~np.isin(items, items_user0_viewed)]\n",
        "len(items), len(items_user0_viewed), len(items_user0_non_viewed)"
      ],
      "metadata": {
        "colab": {
          "base_uri": "https://localhost:8080/"
        },
        "id": "sG7nMc04zjGh",
        "outputId": "80c7edd2-8cc3-4f2e-d085-e6a1ffbbfdb4"
      },
      "execution_count": null,
      "outputs": [
        {
          "output_type": "execute_result",
          "data": {
            "text/plain": [
              "(2711, 259, 2452)"
            ]
          },
          "metadata": {},
          "execution_count": 41
        }
      ]
    },
    {
      "cell_type": "code",
      "source": [
        "X_test_user0 = pd.DataFrame(items_user0_non_viewed, columns=['contentId'])\n",
        "X_test_user0['personId'] = users[0]\n",
        "X_test_user0"
      ],
      "metadata": {
        "colab": {
          "base_uri": "https://localhost:8080/",
          "height": 423
        },
        "id": "4BZnSJNS1-no",
        "outputId": "063d07c0-3906-4e6c-d48f-ea787e32c9af"
      },
      "execution_count": null,
      "outputs": [
        {
          "output_type": "execute_result",
          "data": {
            "text/plain": [
              "                 contentId            personId\n",
              "0     -5170198873410718233  692689608292948411\n",
              "1     -5781461435447152359  692689608292948411\n",
              "2     -8208801367848627943  692689608292948411\n",
              "3     -5150441845583002912  692689608292948411\n",
              "4     -6074646493203713780  692689608292948411\n",
              "...                    ...                 ...\n",
              "2447  -7358932766266901263  692689608292948411\n",
              "2448   8424505741986577894  692689608292948411\n",
              "2449    -72844094766108869  692689608292948411\n",
              "2450   5111115201913219115  692689608292948411\n",
              "2451  -2314360211211303885  692689608292948411\n",
              "\n",
              "[2452 rows x 2 columns]"
            ],
            "text/html": [
              "\n",
              "  <div id=\"df-ea7ef655-eabf-42e8-a22e-a1bae93c4615\" class=\"colab-df-container\">\n",
              "    <div>\n",
              "<style scoped>\n",
              "    .dataframe tbody tr th:only-of-type {\n",
              "        vertical-align: middle;\n",
              "    }\n",
              "\n",
              "    .dataframe tbody tr th {\n",
              "        vertical-align: top;\n",
              "    }\n",
              "\n",
              "    .dataframe thead th {\n",
              "        text-align: right;\n",
              "    }\n",
              "</style>\n",
              "<table border=\"1\" class=\"dataframe\">\n",
              "  <thead>\n",
              "    <tr style=\"text-align: right;\">\n",
              "      <th></th>\n",
              "      <th>contentId</th>\n",
              "      <th>personId</th>\n",
              "    </tr>\n",
              "  </thead>\n",
              "  <tbody>\n",
              "    <tr>\n",
              "      <th>0</th>\n",
              "      <td>-5170198873410718233</td>\n",
              "      <td>692689608292948411</td>\n",
              "    </tr>\n",
              "    <tr>\n",
              "      <th>1</th>\n",
              "      <td>-5781461435447152359</td>\n",
              "      <td>692689608292948411</td>\n",
              "    </tr>\n",
              "    <tr>\n",
              "      <th>2</th>\n",
              "      <td>-8208801367848627943</td>\n",
              "      <td>692689608292948411</td>\n",
              "    </tr>\n",
              "    <tr>\n",
              "      <th>3</th>\n",
              "      <td>-5150441845583002912</td>\n",
              "      <td>692689608292948411</td>\n",
              "    </tr>\n",
              "    <tr>\n",
              "      <th>4</th>\n",
              "      <td>-6074646493203713780</td>\n",
              "      <td>692689608292948411</td>\n",
              "    </tr>\n",
              "    <tr>\n",
              "      <th>...</th>\n",
              "      <td>...</td>\n",
              "      <td>...</td>\n",
              "    </tr>\n",
              "    <tr>\n",
              "      <th>2447</th>\n",
              "      <td>-7358932766266901263</td>\n",
              "      <td>692689608292948411</td>\n",
              "    </tr>\n",
              "    <tr>\n",
              "      <th>2448</th>\n",
              "      <td>8424505741986577894</td>\n",
              "      <td>692689608292948411</td>\n",
              "    </tr>\n",
              "    <tr>\n",
              "      <th>2449</th>\n",
              "      <td>-72844094766108869</td>\n",
              "      <td>692689608292948411</td>\n",
              "    </tr>\n",
              "    <tr>\n",
              "      <th>2450</th>\n",
              "      <td>5111115201913219115</td>\n",
              "      <td>692689608292948411</td>\n",
              "    </tr>\n",
              "    <tr>\n",
              "      <th>2451</th>\n",
              "      <td>-2314360211211303885</td>\n",
              "      <td>692689608292948411</td>\n",
              "    </tr>\n",
              "  </tbody>\n",
              "</table>\n",
              "<p>2452 rows × 2 columns</p>\n",
              "</div>\n",
              "    <div class=\"colab-df-buttons\">\n",
              "\n",
              "  <div class=\"colab-df-container\">\n",
              "    <button class=\"colab-df-convert\" onclick=\"convertToInteractive('df-ea7ef655-eabf-42e8-a22e-a1bae93c4615')\"\n",
              "            title=\"Convert this dataframe to an interactive table.\"\n",
              "            style=\"display:none;\">\n",
              "\n",
              "  <svg xmlns=\"http://www.w3.org/2000/svg\" height=\"24px\" viewBox=\"0 -960 960 960\">\n",
              "    <path d=\"M120-120v-720h720v720H120Zm60-500h600v-160H180v160Zm220 220h160v-160H400v160Zm0 220h160v-160H400v160ZM180-400h160v-160H180v160Zm440 0h160v-160H620v160ZM180-180h160v-160H180v160Zm440 0h160v-160H620v160Z\"/>\n",
              "  </svg>\n",
              "    </button>\n",
              "\n",
              "  <style>\n",
              "    .colab-df-container {\n",
              "      display:flex;\n",
              "      gap: 12px;\n",
              "    }\n",
              "\n",
              "    .colab-df-convert {\n",
              "      background-color: #E8F0FE;\n",
              "      border: none;\n",
              "      border-radius: 50%;\n",
              "      cursor: pointer;\n",
              "      display: none;\n",
              "      fill: #1967D2;\n",
              "      height: 32px;\n",
              "      padding: 0 0 0 0;\n",
              "      width: 32px;\n",
              "    }\n",
              "\n",
              "    .colab-df-convert:hover {\n",
              "      background-color: #E2EBFA;\n",
              "      box-shadow: 0px 1px 2px rgba(60, 64, 67, 0.3), 0px 1px 3px 1px rgba(60, 64, 67, 0.15);\n",
              "      fill: #174EA6;\n",
              "    }\n",
              "\n",
              "    .colab-df-buttons div {\n",
              "      margin-bottom: 4px;\n",
              "    }\n",
              "\n",
              "    [theme=dark] .colab-df-convert {\n",
              "      background-color: #3B4455;\n",
              "      fill: #D2E3FC;\n",
              "    }\n",
              "\n",
              "    [theme=dark] .colab-df-convert:hover {\n",
              "      background-color: #434B5C;\n",
              "      box-shadow: 0px 1px 3px 1px rgba(0, 0, 0, 0.15);\n",
              "      filter: drop-shadow(0px 1px 2px rgba(0, 0, 0, 0.3));\n",
              "      fill: #FFFFFF;\n",
              "    }\n",
              "  </style>\n",
              "\n",
              "    <script>\n",
              "      const buttonEl =\n",
              "        document.querySelector('#df-ea7ef655-eabf-42e8-a22e-a1bae93c4615 button.colab-df-convert');\n",
              "      buttonEl.style.display =\n",
              "        google.colab.kernel.accessAllowed ? 'block' : 'none';\n",
              "\n",
              "      async function convertToInteractive(key) {\n",
              "        const element = document.querySelector('#df-ea7ef655-eabf-42e8-a22e-a1bae93c4615');\n",
              "        const dataTable =\n",
              "          await google.colab.kernel.invokeFunction('convertToInteractive',\n",
              "                                                    [key], {});\n",
              "        if (!dataTable) return;\n",
              "\n",
              "        const docLinkHtml = 'Like what you see? Visit the ' +\n",
              "          '<a target=\"_blank\" href=https://colab.research.google.com/notebooks/data_table.ipynb>data table notebook</a>'\n",
              "          + ' to learn more about interactive tables.';\n",
              "        element.innerHTML = '';\n",
              "        dataTable['output_type'] = 'display_data';\n",
              "        await google.colab.output.renderOutput(dataTable, element);\n",
              "        const docLink = document.createElement('div');\n",
              "        docLink.innerHTML = docLinkHtml;\n",
              "        element.appendChild(docLink);\n",
              "      }\n",
              "    </script>\n",
              "  </div>\n",
              "\n",
              "\n",
              "<div id=\"df-e1a9a106-5d74-4510-a0fb-823cd2092d7e\">\n",
              "  <button class=\"colab-df-quickchart\" onclick=\"quickchart('df-e1a9a106-5d74-4510-a0fb-823cd2092d7e')\"\n",
              "            title=\"Suggest charts\"\n",
              "            style=\"display:none;\">\n",
              "\n",
              "<svg xmlns=\"http://www.w3.org/2000/svg\" height=\"24px\"viewBox=\"0 0 24 24\"\n",
              "     width=\"24px\">\n",
              "    <g>\n",
              "        <path d=\"M19 3H5c-1.1 0-2 .9-2 2v14c0 1.1.9 2 2 2h14c1.1 0 2-.9 2-2V5c0-1.1-.9-2-2-2zM9 17H7v-7h2v7zm4 0h-2V7h2v10zm4 0h-2v-4h2v4z\"/>\n",
              "    </g>\n",
              "</svg>\n",
              "  </button>\n",
              "\n",
              "<style>\n",
              "  .colab-df-quickchart {\n",
              "      --bg-color: #E8F0FE;\n",
              "      --fill-color: #1967D2;\n",
              "      --hover-bg-color: #E2EBFA;\n",
              "      --hover-fill-color: #174EA6;\n",
              "      --disabled-fill-color: #AAA;\n",
              "      --disabled-bg-color: #DDD;\n",
              "  }\n",
              "\n",
              "  [theme=dark] .colab-df-quickchart {\n",
              "      --bg-color: #3B4455;\n",
              "      --fill-color: #D2E3FC;\n",
              "      --hover-bg-color: #434B5C;\n",
              "      --hover-fill-color: #FFFFFF;\n",
              "      --disabled-bg-color: #3B4455;\n",
              "      --disabled-fill-color: #666;\n",
              "  }\n",
              "\n",
              "  .colab-df-quickchart {\n",
              "    background-color: var(--bg-color);\n",
              "    border: none;\n",
              "    border-radius: 50%;\n",
              "    cursor: pointer;\n",
              "    display: none;\n",
              "    fill: var(--fill-color);\n",
              "    height: 32px;\n",
              "    padding: 0;\n",
              "    width: 32px;\n",
              "  }\n",
              "\n",
              "  .colab-df-quickchart:hover {\n",
              "    background-color: var(--hover-bg-color);\n",
              "    box-shadow: 0 1px 2px rgba(60, 64, 67, 0.3), 0 1px 3px 1px rgba(60, 64, 67, 0.15);\n",
              "    fill: var(--button-hover-fill-color);\n",
              "  }\n",
              "\n",
              "  .colab-df-quickchart-complete:disabled,\n",
              "  .colab-df-quickchart-complete:disabled:hover {\n",
              "    background-color: var(--disabled-bg-color);\n",
              "    fill: var(--disabled-fill-color);\n",
              "    box-shadow: none;\n",
              "  }\n",
              "\n",
              "  .colab-df-spinner {\n",
              "    border: 2px solid var(--fill-color);\n",
              "    border-color: transparent;\n",
              "    border-bottom-color: var(--fill-color);\n",
              "    animation:\n",
              "      spin 1s steps(1) infinite;\n",
              "  }\n",
              "\n",
              "  @keyframes spin {\n",
              "    0% {\n",
              "      border-color: transparent;\n",
              "      border-bottom-color: var(--fill-color);\n",
              "      border-left-color: var(--fill-color);\n",
              "    }\n",
              "    20% {\n",
              "      border-color: transparent;\n",
              "      border-left-color: var(--fill-color);\n",
              "      border-top-color: var(--fill-color);\n",
              "    }\n",
              "    30% {\n",
              "      border-color: transparent;\n",
              "      border-left-color: var(--fill-color);\n",
              "      border-top-color: var(--fill-color);\n",
              "      border-right-color: var(--fill-color);\n",
              "    }\n",
              "    40% {\n",
              "      border-color: transparent;\n",
              "      border-right-color: var(--fill-color);\n",
              "      border-top-color: var(--fill-color);\n",
              "    }\n",
              "    60% {\n",
              "      border-color: transparent;\n",
              "      border-right-color: var(--fill-color);\n",
              "    }\n",
              "    80% {\n",
              "      border-color: transparent;\n",
              "      border-right-color: var(--fill-color);\n",
              "      border-bottom-color: var(--fill-color);\n",
              "    }\n",
              "    90% {\n",
              "      border-color: transparent;\n",
              "      border-bottom-color: var(--fill-color);\n",
              "    }\n",
              "  }\n",
              "</style>\n",
              "\n",
              "  <script>\n",
              "    async function quickchart(key) {\n",
              "      const quickchartButtonEl =\n",
              "        document.querySelector('#' + key + ' button');\n",
              "      quickchartButtonEl.disabled = true;  // To prevent multiple clicks.\n",
              "      quickchartButtonEl.classList.add('colab-df-spinner');\n",
              "      try {\n",
              "        const charts = await google.colab.kernel.invokeFunction(\n",
              "            'suggestCharts', [key], {});\n",
              "      } catch (error) {\n",
              "        console.error('Error during call to suggestCharts:', error);\n",
              "      }\n",
              "      quickchartButtonEl.classList.remove('colab-df-spinner');\n",
              "      quickchartButtonEl.classList.add('colab-df-quickchart-complete');\n",
              "    }\n",
              "    (() => {\n",
              "      let quickchartButtonEl =\n",
              "        document.querySelector('#df-e1a9a106-5d74-4510-a0fb-823cd2092d7e button');\n",
              "      quickchartButtonEl.style.display =\n",
              "        google.colab.kernel.accessAllowed ? 'block' : 'none';\n",
              "    })();\n",
              "  </script>\n",
              "</div>\n",
              "    </div>\n",
              "  </div>\n"
            ],
            "application/vnd.google.colaboratory.intrinsic+json": {
              "type": "dataframe",
              "variable_name": "X_test_user0",
              "summary": "{\n  \"name\": \"X_test_user0\",\n  \"rows\": 2452,\n  \"fields\": [\n    {\n      \"column\": \"contentId\",\n      \"properties\": {\n        \"dtype\": \"string\",\n        \"samples\": [\n          \"-5628343274127925011\",\n          \"-5024561776910686117\",\n          \"-8257579276626076787\"\n        ],\n        \"num_unique_values\": 2452,\n        \"semantic_type\": \"\",\n        \"description\": \"\"\n      }\n    },\n    {\n      \"column\": \"personId\",\n      \"properties\": {\n        \"dtype\": \"category\",\n        \"samples\": [\n          \"692689608292948411\"\n        ],\n        \"num_unique_values\": 1,\n        \"semantic_type\": \"\",\n        \"description\": \"\"\n      }\n    }\n  ]\n}"
            }
          },
          "metadata": {},
          "execution_count": 52
        }
      ]
    },
    {
      "cell_type": "code",
      "source": [
        "y_pred_user0 = ubcf.predict(X_test_user0, user_col='personId', item_col='contentId')\n",
        "y_pred_user0"
      ],
      "metadata": {
        "colab": {
          "base_uri": "https://localhost:8080/",
          "height": 85,
          "referenced_widgets": [
            "7eba953ec7f740c8a46ebea127ee5259",
            "9910acf5f9a44b4b81484e66b4a746dd",
            "1fa34aadd54c458081e3ab7ed67ef028",
            "e60d017e77f44dada622118aace1a1db",
            "e16bdb208fbf49a7929a3cf8af4aa647",
            "ceab0119d2204769803429fd502b3ae9",
            "b00d11181a0a4f598f36f7fa17a561a7",
            "01447f47c5734632804daba705eb2b8a",
            "15d14ecbdf934e19a6430aa0b1e4e4ec",
            "f645e0dded814810b7f09cdb23282ec4",
            "e0dbf4b8d7684684a392ac71eb68bcd4"
          ]
        },
        "id": "ilLrU7yO1uBa",
        "outputId": "131eccd5-6e59-47eb-d4a4-3ffe27fd88a6"
      },
      "execution_count": null,
      "outputs": [
        {
          "output_type": "display_data",
          "data": {
            "text/plain": [
              "Predictions:   0%|          | 0/2452 [00:00<?, ?it/s]"
            ],
            "application/vnd.jupyter.widget-view+json": {
              "version_major": 2,
              "version_minor": 0,
              "model_id": "7eba953ec7f740c8a46ebea127ee5259"
            }
          },
          "metadata": {}
        },
        {
          "output_type": "execute_result",
          "data": {
            "text/plain": [
              "array([1.37004849, 1.36591074, 1.3465147 , ..., 1.36965418, 1.36965418,\n",
              "       1.36965418])"
            ]
          },
          "metadata": {},
          "execution_count": 53
        }
      ]
    },
    {
      "cell_type": "code",
      "source": [
        "import seaborn as sns\n",
        "\n",
        "sns.histplot(y_pred_user0);"
      ],
      "metadata": {
        "colab": {
          "base_uri": "https://localhost:8080/",
          "height": 430
        },
        "id": "uGZOwEQI3Vqg",
        "outputId": "c39f952c-5e1c-43b2-b4ef-02244da64bdc"
      },
      "execution_count": null,
      "outputs": [
        {
          "output_type": "display_data",
          "data": {
            "text/plain": [
              "<Figure size 640x480 with 1 Axes>"
            ],
            "image/png": "[encoded data removed]"
          },
          "metadata": {}
        }
      ]
    },
    {
      "cell_type": "code",
      "source": [
        "k = 10\n",
        "y_pred_user0 = pd.Series(y_pred_user0, name='rating')\n",
        "rating_pred_user0 = pd.concat([X_test_user0, y_pred_user0], axis=1)\n",
        "R_u_k_user0 = rating_pred_user0.sort_values('rating', ascending=False)[:k]['contentId'].to_numpy()\n",
        "R_u_k_user0"
      ],
      "metadata": {
        "colab": {
          "base_uri": "https://localhost:8080/"
        },
        "id": "MxPkKCBN3pWf",
        "outputId": "0c145d39-f228-4213-d99d-d4711bf5c3f7"
      },
      "execution_count": null,
      "outputs": [
        {
          "output_type": "execute_result",
          "data": {
            "text/plain": [
              "array(['2372438485070148864', '6062146090334604102',\n",
              "       '2285214528595997209', '3269302169678465882',\n",
              "       '-5014627593450767720', '-4228415104574264137',\n",
              "       '8901449108040307914', '-5625593730080264433',\n",
              "       '-820343972901090172', '4118743389464105405'], dtype=object)"
            ]
          },
          "metadata": {},
          "execution_count": 68
        }
      ]
    },
    {
      "cell_type": "code",
      "source": [
        "L_u_user0 = items_user0_viewed\n",
        "L_u_user0"
      ],
      "metadata": {
        "colab": {
          "base_uri": "https://localhost:8080/"
        },
        "id": "HtcU_GJi5D2i",
        "outputId": "87b3ae0a-602a-4d32-94dd-bce8fd379fc3"
      },
      "execution_count": null,
      "outputs": [
        {
          "output_type": "execute_result",
          "data": {
            "text/plain": [
              "array(['8078873160882064481', '7528802258213768379',\n",
              "       '-6133746337603876146', '-2711301039947937868',\n",
              "       '8471417198703153120', '6652210819857467321',\n",
              "       '-8287402887944984163', '3475346635930218065',\n",
              "       '8095004770374551394', '1964631817676172382',\n",
              "       '5333141914314968598', '3193164045772142182',\n",
              "       '-9083294960368598209', '3067875254349597654',\n",
              "       '2313825045587317872', '-9100490342054218852',\n",
              "       '-1024046541613287684', '3068975614432538771',\n",
              "       '5317978293082383492', '4814419120794996930',\n",
              "       '2900029983899283273', '1674373276159762025',\n",
              "       '5145921881592486583', '809601605585939618',\n",
              "       '-1672166631728511207', '5274322067107287523',\n",
              "       '-6151852268067518688', '-4102297002729307038',\n",
              "       '-8248141950199177506', '4579557799493615039',\n",
              "       '3057455921237571253', '-7681408188643141872',\n",
              "       '-1926525896637230556', '-6863138929434705713',\n",
              "       '3262563792577344354', '4555339116751579515',\n",
              "       '3382511589554885024', '5199666313044493096',\n",
              "       '6583734846225935852', '3689128258624052102',\n",
              "       '-4562218760600603086', '-5557505576293652420',\n",
              "       '-1762456938647577126', '8210960017870928723',\n",
              "       '-5431549861280885742', '-8939172344092554931',\n",
              "       '3575694866055127253', '1449689399273695199',\n",
              "       '6153710684104095269', '-2516726696296387544',\n",
              "       '5163772683749067995', '7229629480273331039', '515531013045220470',\n",
              "       '7494490104520466117', '5659318589553771161',\n",
              "       '5728858831120768412', '-8734181034726403477',\n",
              "       '8690601908689146128', '-1730766821655383888',\n",
              "       '119886322445874454', '-4875060556471576861',\n",
              "       '-1622037268576555626', '4559158557590109105',\n",
              "       '7933360486658437274', '-4844663695104994694',\n",
              "       '-3653998742295730637', '-582471538642477927',\n",
              "       '-7259527987837041658', '3756874058845999993',\n",
              "       '1681163606115593313', '-3820497466351868775',\n",
              "       '2280365999288629014', '-7380550029266431533',\n",
              "       '9222265156747237864', '-7876497512693688413',\n",
              "       '186710613029854965', '-7780475830807410936',\n",
              "       '-1630229587164086350', '-4754223659064624252',\n",
              "       '6876740810766966100', '7877378240682678384',\n",
              "       '-730957269757756529', '1738052593226421681',\n",
              "       '7572869304086387835', '-8949113594875411859',\n",
              "       '6234756865145917449', '-205193648629294862',\n",
              "       '-8222568914848295086', '-6255158415883847921',\n",
              "       '6757348772114374254', '-9073210245497295284',\n",
              "       '-4095842175692097942', '-4050006690189978332',\n",
              "       '-1480913447590268358', '2670715450352290324',\n",
              "       '-6362758570633473480', '-4463029741564307314',\n",
              "       '2916072977192006313', '-1492574794514500033',\n",
              "       '4156291407717900798', '2072448887839540892',\n",
              "       '-3410781775610270991', '-1453783314552286835',\n",
              "       '-6858665134018491791', '-1995591062742965408',\n",
              "       '-538948733779286129', '-7702672626132856079',\n",
              "       '-4509487968959834430', '-6035458164887182128',\n",
              "       '5206308811707978799', '6245165134513326654',\n",
              "       '-1637159115260338032', '9151634133568930081',\n",
              "       '8963770574956550187', '-6980020268309524947',\n",
              "       '-7463305179076477879', '-8771338872124599367',\n",
              "       '880612740433495828', '8685746777792503843', '7943088471380012839',\n",
              "       '-2030742781169834114', '7277161137091492767',\n",
              "       '-3161714324304758767', '1002673045600956890',\n",
              "       '-6566328419164841526', '2301338403202434417',\n",
              "       '-5313466754735123256', '3306277069425849869',\n",
              "       '-8282357075607822317', '1118048247334038458',\n",
              "       '2765063319512128208', '-5017021199558167721',\n",
              "       '4633013345375349272', '-3513515650250501785',\n",
              "       '-5778988730475305016', '2555983212310147009',\n",
              "       '8890720798209849691', '2687654465640040976',\n",
              "       '-5507019982244746725', '-1492913151930215984',\n",
              "       '4306804750094230211', '6521856301289868251',\n",
              "       '8657408509986329668', '3818189513627822856',\n",
              "       '-861913102049789637', '-5148591903395022444',\n",
              "       '-2382583983070627054', '-9160910454530522563',\n",
              "       '7429409096643373334', '-9019233957195913605',\n",
              "       '-2808969983997441543', '7534917347133949300',\n",
              "       '1772786465683785304', '-945863510619496974',\n",
              "       '-5253644367331262405', '216869981229779312',\n",
              "       '2719909253419802298', '-3351656282247453586',\n",
              "       '-4278025512576376201', '-8412113620940365599',\n",
              "       '-7126520323752764957', '-1055630159212837930',\n",
              "       '-4503975842879662368', '1379546145237381445',\n",
              "       '7823781477664935857', '-8158171393641147845',\n",
              "       '5816734694927565572', '-8009527121402763559',\n",
              "       '3779639438468810958', '-2547386150711652030',\n",
              "       '7270966256391553686', '4084131344684656470', '784265334245910688',\n",
              "       '-1199490911632553070', '-5002383425685129595',\n",
              "       '430255078684584595', '3205047378909988692', '2495913984359439198',\n",
              "       '4783081874753928396', '-6727357771678896471',\n",
              "       '7851022564818849560', '-4037032837327175755',\n",
              "       '-2828628091730682303', '-6999287066519531005',\n",
              "       '-6546787050052580484', '-5000193502203199335',\n",
              "       '3799414975499163376', '7004101889471761341',\n",
              "       '4375556914674736641', '-4770861947600256785',\n",
              "       '-8369610219380465981', '7467940062038388159',\n",
              "       '8974280745225397183', '8378863480597222815',\n",
              "       '-2447632164766022033', '-145625979744144572',\n",
              "       '1356221992133852808', '1881534532776527237',\n",
              "       '-986027724303592548', '-3780822597455574960',\n",
              "       '6519443272707698315', '1436883058900979473',\n",
              "       '5934557073194045393', '4259370161044254504', '980458131533897249',\n",
              "       '2581138407738454418', '8912004903894879756',\n",
              "       '1920899299418335515', '-6156751702010469220',\n",
              "       '-7722236679806608274', '6638782839540370044',\n",
              "       '-5628897645967553681', '-5850390492300666299',\n",
              "       '-5847687782206566321', '6428429126612898364',\n",
              "       '3989649621607163677', '-2440247087447106971',\n",
              "       '-2479936301516183562', '-2271000159302779222',\n",
              "       '6384824828701919724', '4036103329046553070',\n",
              "       '1060159005880386235', '-2584174137395076448',\n",
              "       '4165127518659426948', '-5044204125574973395',\n",
              "       '3099207916247126790', '3495098006178009360',\n",
              "       '-8381230866408697127', '-615912190028612956',\n",
              "       '-2358756719610361882', '-5488842573681626972',\n",
              "       '-7895534832212398576', '-3716447017462787559',\n",
              "       '-6707474286910397949', '8115033558441775155',\n",
              "       '8768619263229062922', '921770761777842242', '8582210754044680874',\n",
              "       '2435024834845042614', '7226503561499839165',\n",
              "       '9175693555063886126', '-7638840925036528150',\n",
              "       '-2069509552243850466', '-1876558460087500339',\n",
              "       '-5750828394349042089', '-2487699318115820990',\n",
              "       '-8052188270551570124', '-3870015206307768313',\n",
              "       '3128282567747885251', '-7191607771634445823',\n",
              "       '4430520614172753870', '-4996336942690402156',\n",
              "       '5854206600849997966', '826748584447376099',\n",
              "       '-8047634385511625486', '174707786647990372',\n",
              "       '6006800146436649545', '-3040610224044779845',\n",
              "       '-7539647701814009718'], dtype=object)"
            ]
          },
          "metadata": {},
          "execution_count": 70
        }
      ]
    },
    {
      "cell_type": "code",
      "source": [
        "R_and_L_user0 = np.intersect1d(R_u_k_user0, L_u_user0)\n",
        "print(R_and_L_user0)\n",
        "precision_at_k_user0 = len(R_and_L_user0) / len(R_u_k_user0)\n",
        "precision_at_k_user0"
      ],
      "metadata": {
        "colab": {
          "base_uri": "https://localhost:8080/"
        },
        "id": "CzyS3Sqq5r7V",
        "outputId": "f3754cdf-9286-4fbd-8b89-428d439391e2"
      },
      "execution_count": null,
      "outputs": [
        {
          "output_type": "stream",
          "name": "stdout",
          "text": [
            "[]\n"
          ]
        },
        {
          "output_type": "execute_result",
          "data": {
            "text/plain": [
              "0.0"
            ]
          },
          "metadata": {},
          "execution_count": 74
        }
      ]
    },
    {
      "cell_type": "markdown",
      "source": [
        "#### Implementation for all users"
      ],
      "metadata": {
        "id": "sBsHjNqePq_Z"
      }
    },
    {
      "cell_type": "code",
      "source": [
        "import itertools\n",
        "\n",
        "# all possible permutations\n",
        "X_test_all = pd.DataFrame(itertools.product(users,items), columns=['personId','contentId'])\n",
        "\n",
        "# remove those from train set\n",
        "print(len(X_test_all))\n",
        "print(len(X_test_all) - len(X_train))\n",
        "X_test_all = X_test_all.set_index(['personId','contentId'])\n",
        "X_test_all = X_test_all.drop(X_train.set_index(['personId','contentId']).index)\n",
        "print(len(X_test_all))\n",
        "X_test_all = X_test_all.reset_index()"
      ],
      "metadata": {
        "colab": {
          "base_uri": "https://localhost:8080/"
        },
        "id": "1Ex6wh1eyGzm",
        "outputId": "86346db9-60a2-44d1-9fea-ce226db0c595"
      },
      "execution_count": null,
      "outputs": [
        {
          "output_type": "stream",
          "name": "stdout",
          "text": [
            "3090540\n",
            "3061671\n",
            "3061671\n"
          ]
        }
      ]
    },
    {
      "cell_type": "code",
      "source": [
        "%%time\n",
        "y_pred_all = ubcf.predict(X_test_all, user_col='personId', item_col='contentId')"
      ],
      "metadata": {
        "colab": {
          "base_uri": "https://localhost:8080/",
          "height": 84,
          "referenced_widgets": [
            "c449722b364c4d60bc006594a358270d",
            "9e8161bdc5a047f38632f39b7f05878d",
            "f7b711e1651f4ce0bfb3b929d6b7f359",
            "58325a77fe29476fa4dd6f7d342be6dd",
            "a52bb6e365b845dabebfdb4d686dcc46",
            "ca65e8efe9b14c4cb01197f5a51e4777",
            "e0ca30808f914100be3985c28dd27b7c",
            "5b1f8949b2c245808f13fc90d80f5bfc",
            "22b5ee2564854fa78cddf7691e44202f",
            "ee2bf6ec141349248a9da5898cd6fb99",
            "9c90f448879640dba239ef6e156c7604"
          ]
        },
        "id": "0Bb6S8BwBRNj",
        "outputId": "56623e4a-dfd4-4c8c-9162-07ec9b40e418"
      },
      "execution_count": null,
      "outputs": [
        {
          "output_type": "display_data",
          "data": {
            "text/plain": [
              "Predictions:   0%|          | 0/3061671 [00:00<?, ?it/s]"
            ],
            "application/vnd.jupyter.widget-view+json": {
              "version_major": 2,
              "version_minor": 0,
              "model_id": "c449722b364c4d60bc006594a358270d"
            }
          },
          "metadata": {}
        },
        {
          "output_type": "stream",
          "name": "stdout",
          "text": [
            "CPU times: user 13min 26s, sys: 4.9 s, total: 13min 31s\n",
            "Wall time: 14min 27s\n"
          ]
        }
      ]
    },
    {
      "cell_type": "code",
      "source": [
        "# convert from numpy array to pandas series (vector)\n",
        "y_pred_all = pd.Series(data=y_pred_all, name='rating')"
      ],
      "metadata": {
        "id": "6AgX25IhKCOo"
      },
      "execution_count": null,
      "outputs": []
    },
    {
      "cell_type": "code",
      "source": [
        "def mean_precision_at_k(X_pred, y_pred, X_test, y_test, user_col, item_col, k=10):\n",
        "\n",
        "    data_pred = pd.concat([X_pred[[user_col, item_col]], y_pred.rename('rating')], axis=1)\n",
        "    data_test = pd.concat([X_test[[user_col, item_col]], y_test.rename('rating')], axis=1)\n",
        "\n",
        "    users = data_test[user_col].unique()\n",
        "\n",
        "    # sort predicted ratings\n",
        "    data_pred = data_pred.sort_values('rating', ascending=False)\n",
        "\n",
        "    precision_by_user = np.zeros(len(users))\n",
        "    i = 0\n",
        "\n",
        "    for u in tqdm(users, desc='users'):\n",
        "        R_u_k = data_pred.loc[data_pred[user_col] == u, item_col][:10]\n",
        "        L_u = data_test.loc[data_test[user_col] == u, item_col]\n",
        "        if len(R_u_k) != 0:\n",
        "            precision_by_user[i] = sum(np.isin(R_u_k, L_u)) / len(R_u_k)\n",
        "        i += 1\n",
        "\n",
        "    precision_by_user = pd.Series(data=precision_by_user, index=users)\n",
        "    mean_precision = np.mean(precision_by_user)\n",
        "\n",
        "    return mean_precision, precision_by_user"
      ],
      "metadata": {
        "id": "LmwdVxqNC5Ju"
      },
      "execution_count": null,
      "outputs": []
    },
    {
      "cell_type": "code",
      "source": [
        "%%time\n",
        "mean_precision, precision_by_user = mean_precision_at_k(X_test_all, y_pred_all, X_test, y_test,\n",
        "                                                        user_col='personId', item_col='contentId', k=10)"
      ],
      "metadata": {
        "colab": {
          "base_uri": "https://localhost:8080/",
          "height": 49,
          "referenced_widgets": [
            "8d8c76460345432d865547c036bf6a32",
            "ace300c07d7542f9a2f5d3990c0e2b21",
            "00251bcdf8b54c77b3b26bef2bcaf640",
            "a87b848793ab4361a1a79f95dc7b2df7",
            "4e6265b585eb45e9ab4194244b1c88ba",
            "e559fcbb41994f39861d587c57aef35c",
            "ee632f62b38845c6990620fdc5917d91",
            "03a91d5a4fb146a0b031482815bab01d",
            "c6b9f18089814be299467fe96d700af9",
            "7ab25744f4084b80aa636e3a101f38df",
            "ee0be32c765e4e34bc109de08fc4a688"
          ]
        },
        "id": "GS1Klnt8CB9t",
        "outputId": "582b514c-e823-4c0a-b5d0-feefed55a783"
      },
      "execution_count": null,
      "outputs": [
        {
          "output_type": "display_data",
          "data": {
            "text/plain": [
              "users:   0%|          | 0/1140 [00:00<?, ?it/s]"
            ],
            "application/vnd.jupyter.widget-view+json": {
              "version_major": 2,
              "version_minor": 0,
              "model_id": "8d8c76460345432d865547c036bf6a32"
            }
          },
          "metadata": {}
        }
      ]
    },
    {
      "cell_type": "code",
      "source": [
        "mean_precision"
      ],
      "metadata": {
        "colab": {
          "base_uri": "https://localhost:8080/"
        },
        "id": "1h28Vfi1ItWQ",
        "outputId": "bb5a6a1c-3658-4cee-ec5d-7857d41f5b6e"
      },
      "execution_count": null,
      "outputs": [
        {
          "output_type": "execute_result",
          "data": {
            "text/plain": [
              "0.010175438596491228"
            ]
          },
          "metadata": {},
          "execution_count": 99
        }
      ]
    },
    {
      "cell_type": "markdown",
      "source": [
        "### Sunrise: SVD"
      ],
      "metadata": {
        "id": "37BxROvxtkz6"
      }
    },
    {
      "cell_type": "code",
      "source": [
        "%%capture\n",
        "!pip install surprise"
      ],
      "metadata": {
        "id": "iySy3_2VK1c2"
      },
      "execution_count": null,
      "outputs": []
    },
    {
      "cell_type": "code",
      "source": [
        "from surprise import Reader, Dataset\n",
        "\n",
        "# A reader (parser) is needed only for the required rating_scale param.\n",
        "rating_scale = tuple(interactions_non_cold.eventStrength.agg(['min','max']))\n",
        "reader = Reader(rating_scale=rating_scale)\n",
        "\n",
        "interactions_non_cold = interactions_non_cold.sort_values('last_timestamp')\n",
        "# The columns must correspond to user id, item id and ratings (in that order).\n",
        "data_surprise = Dataset.load_from_df(interactions_non_cold[['personId','contentId','eventStrength']], reader)"
      ],
      "metadata": {
        "id": "wzp8C4LKK6zm"
      },
      "execution_count": null,
      "outputs": []
    },
    {
      "cell_type": "code",
      "source": [
        "from surprise.model_selection import train_test_split\n",
        "from surprise import SVD\n",
        "from surprise import accuracy\n",
        "\n",
        "# sample random trainset and testset\n",
        "# test set is made of 25% of the ratings.\n",
        "trainset, testset = train_test_split(data_surprise, test_size=.25)\n",
        "\n",
        "# We'll use the famous SVD algorithm.\n",
        "# Hyperparameters:\n",
        "# - default learning rate lr_all=0.005\n",
        "# - default regularization term reg_all=0.02\n",
        "svd = SVD()\n",
        "\n",
        "# Train the algorithm on the trainset, and predict ratings for the testset\n",
        "svd.fit(trainset)\n",
        "predictions = svd.test(testset)\n",
        "\n",
        "# Then compute RMSE\n",
        "accuracy.rmse(predictions)"
      ],
      "metadata": {
        "colab": {
          "base_uri": "https://localhost:8080/"
        },
        "id": "AJ8MYbh0LgYN",
        "outputId": "16287b86-ca10-42e6-9979-67924cabbab7"
      },
      "execution_count": null,
      "outputs": [
        {
          "output_type": "stream",
          "name": "stdout",
          "text": [
            "RMSE: 0.6435\n"
          ]
        },
        {
          "output_type": "execute_result",
          "data": {
            "text/plain": [
              "0.6435436069717954"
            ]
          },
          "metadata": {},
          "execution_count": 114
        }
      ]
    },
    {
      "cell_type": "code",
      "source": [
        "# https://surprise.readthedocs.io/en/stable/FAQ.html?highlight=precision_recall_at_k#how-to-compute-precision-k-and-recall-k\n",
        "from collections import defaultdict\n",
        "\n",
        "def precision_recall_at_k(predictions, k=10, threshold=3.5):\n",
        "\n",
        "    # First map the predictions to each user.\n",
        "    user_est_true = defaultdict(list)\n",
        "    for uid, _, true_r, est, _ in predictions:\n",
        "        user_est_true[uid].append((est, true_r))\n",
        "\n",
        "    precisions = dict()\n",
        "    recalls = dict()\n",
        "    for uid, user_ratings in user_est_true.items():\n",
        "\n",
        "        # Sort user ratings by estimated value\n",
        "        user_ratings.sort(key=lambda x: x[0], reverse=True)\n",
        "\n",
        "        # Number of relevant items\n",
        "        n_rel = sum((true_r >= threshold) for (_, true_r) in user_ratings)\n",
        "\n",
        "        # Number of recommended items in top k\n",
        "        n_rec_k = sum((est >= threshold) for (est, _) in user_ratings[:k])\n",
        "\n",
        "        # Number of relevant and recommended items in top k\n",
        "        n_rel_and_rec_k = sum(\n",
        "            ((true_r >= threshold) and (est >= threshold))\n",
        "            for (est, true_r) in user_ratings[:k]\n",
        "        )\n",
        "\n",
        "        # Precision@K: Proportion of recommended items that are relevant\n",
        "        # When n_rec_k is 0, Precision is undefined. We here set it to 0.\n",
        "\n",
        "        precisions[uid] = n_rel_and_rec_k / n_rec_k if n_rec_k != 0 else 0\n",
        "\n",
        "        # Recall@K: Proportion of relevant items that are recommended\n",
        "        # When n_rel is 0, Recall is undefined. We here set it to 0.\n",
        "\n",
        "        recalls[uid] = n_rel_and_rec_k / n_rel if n_rel != 0 else 0\n",
        "\n",
        "    return precisions, recalls\n"
      ],
      "metadata": {
        "id": "gt5_fYxmMyOe"
      },
      "execution_count": null,
      "outputs": []
    },
    {
      "cell_type": "code",
      "source": [
        "precisions, recalls = precision_recall_at_k(predictions, k=5, threshold=4)\n",
        "\n",
        "# Precision and recall can then be averaged over all users\n",
        "print(sum(prec for prec in precisions.values()) / len(precisions))\n",
        "print(sum(rec for rec in recalls.values()) / len(recalls))\n"
      ],
      "metadata": {
        "colab": {
          "base_uri": "https://localhost:8080/"
        },
        "id": "RCRuUA6YPTbO",
        "outputId": "3841863b-460d-4f3e-95b5-8e20a007194f"
      },
      "execution_count": null,
      "outputs": [
        {
          "output_type": "stream",
          "name": "stdout",
          "text": [
            "0.0\n",
            "0.0\n"
          ]
        }
      ]
    },
    {
      "cell_type": "code",
      "source": [
        "# The goal is to use svd.test() on X_test_all\n",
        "\n",
        "# The columns must correspond to user id, item id and ratings (in that order).\n",
        "data_test_all_surprise = X_test_all\n",
        "data_test_all_surprise['eventStrength'] = 0.0\n",
        "\n",
        "data_surprise_all = Dataset.load_from_df(data_test_all_surprise, reader)\n",
        "\n",
        "# https://surprise.readthedocs.io/en/stable/dataset.html?highlight=build_full_trainset#surprise.dataset.DatasetAutoFolds.build_full_trainset\n",
        "# no split\n",
        "trainset = data_surprise_all.build_full_trainset()\n",
        "# https://surprise.readthedocs.io/en/stable/trainset.html?highlight=build_testset#surprise.Trainset.build_testset\n",
        "# all data in test\n",
        "testset = trainset.build_testset()\n",
        "\n",
        "predictions = svd.test(testset)"
      ],
      "metadata": {
        "id": "ExbQc9utMrqd"
      },
      "execution_count": null,
      "outputs": []
    },
    {
      "cell_type": "code",
      "source": [
        "predictions[:3]"
      ],
      "metadata": {
        "colab": {
          "base_uri": "https://localhost:8080/"
        },
        "id": "a-kBMVn1PnYi",
        "outputId": "2d0bac62-8780-400b-a435-b9afd73c53d8"
      },
      "execution_count": null,
      "outputs": [
        {
          "output_type": "execute_result",
          "data": {
            "text/plain": [
              "[Prediction(uid='692689608292948411', iid='-5170198873410718233', r_ui=0.0, est=1.1867935455462668, details={'was_impossible': False}),\n",
              " Prediction(uid='692689608292948411', iid='-5781461435447152359', r_ui=0.0, est=1.0, details={'was_impossible': False}),\n",
              " Prediction(uid='692689608292948411', iid='-8208801367848627943', r_ui=0.0, est=1.28076792727747, details={'was_impossible': False})]"
            ]
          },
          "metadata": {},
          "execution_count": 121
        }
      ]
    },
    {
      "cell_type": "code",
      "source": [
        "y_pred_all_svd = np.zeros(len(X_test_all))\n",
        "i = 0\n",
        "\n",
        "for _, _, _, est, _ in predictions:\n",
        "    y_pred_all_svd[i] = est\n",
        "    i += 1\n",
        "\n",
        "y_pred_all_svd = pd.Series(y_pred_all_svd, name='rating')"
      ],
      "metadata": {
        "id": "RWtquVpLQJ9q"
      },
      "execution_count": null,
      "outputs": []
    },
    {
      "cell_type": "code",
      "source": [
        "%%time\n",
        "mean_precision_svd, precision_by_user_svd = mean_precision_at_k(X_test_all, y_pred_all_svd, X_test, y_test,\n",
        "                                                                user_col='personId', item_col='contentId', k=10)"
      ],
      "metadata": {
        "colab": {
          "base_uri": "https://localhost:8080/",
          "height": 84,
          "referenced_widgets": [
            "a2d217a63a9c4fb99023a13f2c98b58e",
            "2996103c24164c0cbf2d67790f8aa85d",
            "7eb7c49735c0436fb45c4bff537e9cb4",
            "9d7b61265e2d4efbb1f52c6a18643288",
            "b7f943267d534348ba8ab5a3e7e0b004",
            "f799177f72ce4adfbcd40203b8de455b",
            "9c4141a31dab45599479d55edeffe3b3",
            "099738dc593e4b13ae0287f98a5b41a6",
            "4effd9d79a0c470ea69700362997c120",
            "802490c3ba2c4172b55374fb7881c63f",
            "fe4fe370e0564b6fa6563c9f8ef04b80"
          ]
        },
        "id": "nb7QNCvfQjsI",
        "outputId": "849c337e-4a1e-47bd-f552-337afe96e652"
      },
      "execution_count": null,
      "outputs": [
        {
          "output_type": "display_data",
          "data": {
            "text/plain": [
              "users:   0%|          | 0/1140 [00:00<?, ?it/s]"
            ],
            "application/vnd.jupyter.widget-view+json": {
              "version_major": 2,
              "version_minor": 0,
              "model_id": "a2d217a63a9c4fb99023a13f2c98b58e"
            }
          },
          "metadata": {}
        },
        {
          "output_type": "stream",
          "name": "stdout",
          "text": [
            "CPU times: user 5min 6s, sys: 1.81 s, total: 5min 7s\n",
            "Wall time: 5min 13s\n"
          ]
        }
      ]
    },
    {
      "cell_type": "code",
      "source": [
        "mean_precision_svd"
      ],
      "metadata": {
        "colab": {
          "base_uri": "https://localhost:8080/"
        },
        "id": "8dEp0oZVSPlr",
        "outputId": "8010b3ed-0cff-4c02-d230-5344bdf37cc1"
      },
      "execution_count": null,
      "outputs": [
        {
          "output_type": "execute_result",
          "data": {
            "text/plain": [
              "0.005350877192982456"
            ]
          },
          "metadata": {},
          "execution_count": 132
        }
      ]
    }
  ],
  "metadata": {
    "colab": {
      "provenance": [],
      "toc_visible": true,
      "include_colab_link": true
    },
    "kernelspec": {
      "display_name": "Python 3",
      "language": "python",
      "name": "python3"
    },
    "language_info": {
      "codemirror_mode": {
        "name": "ipython",
        "version": 3
      },
      "file_extension": ".py",
      "mimetype": "text/x-python",
      "name": "python",
      "nbconvert_exporter": "python",
      "pygments_lexer": "ipython3",
      "version": "3.7.5"
    },
    "widgets": {
      "application/vnd.jupyter.widget-state+json": {
        "c449722b364c4d60bc006594a358270d": {
          "model_module": "@jupyter-widgets/controls",
          "model_name": "HBoxModel",
          "model_module_version": "1.5.0",
          "state": {
            "_dom_classes": [],
            "_model_module": "@jupyter-widgets/controls",
            "_model_module_version": "1.5.0",
            "_model_name": "HBoxModel",
            "_view_count": null,
            "_view_module": "@jupyter-widgets/controls",
            "_view_module_version": "1.5.0",
            "_view_name": "HBoxView",
            "box_style": "",
            "children": [
              "IPY_MODEL_9e8161bdc5a047f38632f39b7f05878d",
              "IPY_MODEL_f7b711e1651f4ce0bfb3b929d6b7f359",
              "IPY_MODEL_58325a77fe29476fa4dd6f7d342be6dd"
            ],
            "layout": "IPY_MODEL_a52bb6e365b845dabebfdb4d686dcc46"
          }
        },
        "9e8161bdc5a047f38632f39b7f05878d": {
          "model_module": "@jupyter-widgets/controls",
          "model_name": "HTMLModel",
          "model_module_version": "1.5.0",
          "state": {
            "_dom_classes": [],
            "_model_module": "@jupyter-widgets/controls",
            "_model_module_version": "1.5.0",
            "_model_name": "HTMLModel",
            "_view_count": null,
            "_view_module": "@jupyter-widgets/controls",
            "_view_module_version": "1.5.0",
            "_view_name": "HTMLView",
            "description": "",
            "description_tooltip": null,
            "layout": "IPY_MODEL_ca65e8efe9b14c4cb01197f5a51e4777",
            "placeholder": "​",
            "style": "IPY_MODEL_e0ca30808f914100be3985c28dd27b7c",
            "value": "Predictions: 100%"
          }
        },
        "f7b711e1651f4ce0bfb3b929d6b7f359": {
          "model_module": "@jupyter-widgets/controls",
          "model_name": "FloatProgressModel",
          "model_module_version": "1.5.0",
          "state": {
            "_dom_classes": [],
            "_model_module": "@jupyter-widgets/controls",
            "_model_module_version": "1.5.0",
            "_model_name": "FloatProgressModel",
            "_view_count": null,
            "_view_module": "@jupyter-widgets/controls",
            "_view_module_version": "1.5.0",
            "_view_name": "ProgressView",
            "bar_style": "success",
            "description": "",
            "description_tooltip": null,
            "layout": "IPY_MODEL_5b1f8949b2c245808f13fc90d80f5bfc",
            "max": 3061671,
            "min": 0,
            "orientation": "horizontal",
            "style": "IPY_MODEL_22b5ee2564854fa78cddf7691e44202f",
            "value": 3061671
          }
        },
        "58325a77fe29476fa4dd6f7d342be6dd": {
          "model_module": "@jupyter-widgets/controls",
          "model_name": "HTMLModel",
          "model_module_version": "1.5.0",
          "state": {
            "_dom_classes": [],
            "_model_module": "@jupyter-widgets/controls",
            "_model_module_version": "1.5.0",
            "_model_name": "HTMLModel",
            "_view_count": null,
            "_view_module": "@jupyter-widgets/controls",
            "_view_module_version": "1.5.0",
            "_view_name": "HTMLView",
            "description": "",
            "description_tooltip": null,
            "layout": "IPY_MODEL_ee2bf6ec141349248a9da5898cd6fb99",
            "placeholder": "​",
            "style": "IPY_MODEL_9c90f448879640dba239ef6e156c7604",
            "value": " 3061671/3061671 [14:27&lt;00:00, 4273.01it/s]"
          }
        },
        "a52bb6e365b845dabebfdb4d686dcc46": {
          "model_module": "@jupyter-widgets/base",
          "model_name": "LayoutModel",
          "model_module_version": "1.2.0",
          "state": {
            "_model_module": "@jupyter-widgets/base",
            "_model_module_version": "1.2.0",
            "_model_name": "LayoutModel",
            "_view_count": null,
            "_view_module": "@jupyter-widgets/base",
            "_view_module_version": "1.2.0",
            "_view_name": "LayoutView",
            "align_content": null,
            "align_items": null,
            "align_self": null,
            "border": null,
            "bottom": null,
            "display": null,
            "flex": null,
            "flex_flow": null,
            "grid_area": null,
            "grid_auto_columns": null,
            "grid_auto_flow": null,
            "grid_auto_rows": null,
            "grid_column": null,
            "grid_gap": null,
            "grid_row": null,
            "grid_template_areas": null,
            "grid_template_columns": null,
            "grid_template_rows": null,
            "height": null,
            "justify_content": null,
            "justify_items": null,
            "left": null,
            "margin": null,
            "max_height": null,
            "max_width": null,
            "min_height": null,
            "min_width": null,
            "object_fit": null,
            "object_position": null,
            "order": null,
            "overflow": null,
            "overflow_x": null,
            "overflow_y": null,
            "padding": null,
            "right": null,
            "top": null,
            "visibility": null,
            "width": null
          }
        },
        "ca65e8efe9b14c4cb01197f5a51e4777": {
          "model_module": "@jupyter-widgets/base",
          "model_name": "LayoutModel",
          "model_module_version": "1.2.0",
          "state": {
            "_model_module": "@jupyter-widgets/base",
            "_model_module_version": "1.2.0",
            "_model_name": "LayoutModel",
            "_view_count": null,
            "_view_module": "@jupyter-widgets/base",
            "_view_module_version": "1.2.0",
            "_view_name": "LayoutView",
            "align_content": null,
            "align_items": null,
            "align_self": null,
            "border": null,
            "bottom": null,
            "display": null,
            "flex": null,
            "flex_flow": null,
            "grid_area": null,
            "grid_auto_columns": null,
            "grid_auto_flow": null,
            "grid_auto_rows": null,
            "grid_column": null,
            "grid_gap": null,
            "grid_row": null,
            "grid_template_areas": null,
            "grid_template_columns": null,
            "grid_template_rows": null,
            "height": null,
            "justify_content": null,
            "justify_items": null,
            "left": null,
            "margin": null,
            "max_height": null,
            "max_width": null,
            "min_height": null,
            "min_width": null,
            "object_fit": null,
            "object_position": null,
            "order": null,
            "overflow": null,
            "overflow_x": null,
            "overflow_y": null,
            "padding": null,
            "right": null,
            "top": null,
            "visibility": null,
            "width": null
          }
        },
        "e0ca30808f914100be3985c28dd27b7c": {
          "model_module": "@jupyter-widgets/controls",
          "model_name": "DescriptionStyleModel",
          "model_module_version": "1.5.0",
          "state": {
            "_model_module": "@jupyter-widgets/controls",
            "_model_module_version": "1.5.0",
            "_model_name": "DescriptionStyleModel",
            "_view_count": null,
            "_view_module": "@jupyter-widgets/base",
            "_view_module_version": "1.2.0",
            "_view_name": "StyleView",
            "description_width": ""
          }
        },
        "5b1f8949b2c245808f13fc90d80f5bfc": {
          "model_module": "@jupyter-widgets/base",
          "model_name": "LayoutModel",
          "model_module_version": "1.2.0",
          "state": {
            "_model_module": "@jupyter-widgets/base",
            "_model_module_version": "1.2.0",
            "_model_name": "LayoutModel",
            "_view_count": null,
            "_view_module": "@jupyter-widgets/base",
            "_view_module_version": "1.2.0",
            "_view_name": "LayoutView",
            "align_content": null,
            "align_items": null,
            "align_self": null,
            "border": null,
            "bottom": null,
            "display": null,
            "flex": null,
            "flex_flow": null,
            "grid_area": null,
            "grid_auto_columns": null,
            "grid_auto_flow": null,
            "grid_auto_rows": null,
            "grid_column": null,
            "grid_gap": null,
            "grid_row": null,
            "grid_template_areas": null,
            "grid_template_columns": null,
            "grid_template_rows": null,
            "height": null,
            "justify_content": null,
            "justify_items": null,
            "left": null,
            "margin": null,
            "max_height": null,
            "max_width": null,
            "min_height": null,
            "min_width": null,
            "object_fit": null,
            "object_position": null,
            "order": null,
            "overflow": null,
            "overflow_x": null,
            "overflow_y": null,
            "padding": null,
            "right": null,
            "top": null,
            "visibility": null,
            "width": null
          }
        },
        "22b5ee2564854fa78cddf7691e44202f": {
          "model_module": "@jupyter-widgets/controls",
          "model_name": "ProgressStyleModel",
          "model_module_version": "1.5.0",
          "state": {
            "_model_module": "@jupyter-widgets/controls",
            "_model_module_version": "1.5.0",
            "_model_name": "ProgressStyleModel",
            "_view_count": null,
            "_view_module": "@jupyter-widgets/base",
            "_view_module_version": "1.2.0",
            "_view_name": "StyleView",
            "bar_color": null,
            "description_width": ""
          }
        },
        "ee2bf6ec141349248a9da5898cd6fb99": {
          "model_module": "@jupyter-widgets/base",
          "model_name": "LayoutModel",
          "model_module_version": "1.2.0",
          "state": {
            "_model_module": "@jupyter-widgets/base",
            "_model_module_version": "1.2.0",
            "_model_name": "LayoutModel",
            "_view_count": null,
            "_view_module": "@jupyter-widgets/base",
            "_view_module_version": "1.2.0",
            "_view_name": "LayoutView",
            "align_content": null,
            "align_items": null,
            "align_self": null,
            "border": null,
            "bottom": null,
            "display": null,
            "flex": null,
            "flex_flow": null,
            "grid_area": null,
            "grid_auto_columns": null,
            "grid_auto_flow": null,
            "grid_auto_rows": null,
            "grid_column": null,
            "grid_gap": null,
            "grid_row": null,
            "grid_template_areas": null,
            "grid_template_columns": null,
            "grid_template_rows": null,
            "height": null,
            "justify_content": null,
            "justify_items": null,
            "left": null,
            "margin": null,
            "max_height": null,
            "max_width": null,
            "min_height": null,
            "min_width": null,
            "object_fit": null,
            "object_position": null,
            "order": null,
            "overflow": null,
            "overflow_x": null,
            "overflow_y": null,
            "padding": null,
            "right": null,
            "top": null,
            "visibility": null,
            "width": null
          }
        },
        "9c90f448879640dba239ef6e156c7604": {
          "model_module": "@jupyter-widgets/controls",
          "model_name": "DescriptionStyleModel",
          "model_module_version": "1.5.0",
          "state": {
            "_model_module": "@jupyter-widgets/controls",
            "_model_module_version": "1.5.0",
            "_model_name": "DescriptionStyleModel",
            "_view_count": null,
            "_view_module": "@jupyter-widgets/base",
            "_view_module_version": "1.2.0",
            "_view_name": "StyleView",
            "description_width": ""
          }
        },
        "8d8c76460345432d865547c036bf6a32": {
          "model_module": "@jupyter-widgets/controls",
          "model_name": "HBoxModel",
          "model_module_version": "1.5.0",
          "state": {
            "_dom_classes": [],
            "_model_module": "@jupyter-widgets/controls",
            "_model_module_version": "1.5.0",
            "_model_name": "HBoxModel",
            "_view_count": null,
            "_view_module": "@jupyter-widgets/controls",
            "_view_module_version": "1.5.0",
            "_view_name": "HBoxView",
            "box_style": "",
            "children": [
              "IPY_MODEL_ace300c07d7542f9a2f5d3990c0e2b21",
              "IPY_MODEL_00251bcdf8b54c77b3b26bef2bcaf640",
              "IPY_MODEL_a87b848793ab4361a1a79f95dc7b2df7"
            ],
            "layout": "IPY_MODEL_4e6265b585eb45e9ab4194244b1c88ba"
          }
        },
        "ace300c07d7542f9a2f5d3990c0e2b21": {
          "model_module": "@jupyter-widgets/controls",
          "model_name": "HTMLModel",
          "model_module_version": "1.5.0",
          "state": {
            "_dom_classes": [],
            "_model_module": "@jupyter-widgets/controls",
            "_model_module_version": "1.5.0",
            "_model_name": "HTMLModel",
            "_view_count": null,
            "_view_module": "@jupyter-widgets/controls",
            "_view_module_version": "1.5.0",
            "_view_name": "HTMLView",
            "description": "",
            "description_tooltip": null,
            "layout": "IPY_MODEL_e559fcbb41994f39861d587c57aef35c",
            "placeholder": "​",
            "style": "IPY_MODEL_ee632f62b38845c6990620fdc5917d91",
            "value": "users: 100%"
          }
        },
        "00251bcdf8b54c77b3b26bef2bcaf640": {
          "model_module": "@jupyter-widgets/controls",
          "model_name": "FloatProgressModel",
          "model_module_version": "1.5.0",
          "state": {
            "_dom_classes": [],
            "_model_module": "@jupyter-widgets/controls",
            "_model_module_version": "1.5.0",
            "_model_name": "FloatProgressModel",
            "_view_count": null,
            "_view_module": "@jupyter-widgets/controls",
            "_view_module_version": "1.5.0",
            "_view_name": "ProgressView",
            "bar_style": "success",
            "description": "",
            "description_tooltip": null,
            "layout": "IPY_MODEL_03a91d5a4fb146a0b031482815bab01d",
            "max": 1140,
            "min": 0,
            "orientation": "horizontal",
            "style": "IPY_MODEL_c6b9f18089814be299467fe96d700af9",
            "value": 1140
          }
        },
        "a87b848793ab4361a1a79f95dc7b2df7": {
          "model_module": "@jupyter-widgets/controls",
          "model_name": "HTMLModel",
          "model_module_version": "1.5.0",
          "state": {
            "_dom_classes": [],
            "_model_module": "@jupyter-widgets/controls",
            "_model_module_version": "1.5.0",
            "_model_name": "HTMLModel",
            "_view_count": null,
            "_view_module": "@jupyter-widgets/controls",
            "_view_module_version": "1.5.0",
            "_view_name": "HTMLView",
            "description": "",
            "description_tooltip": null,
            "layout": "IPY_MODEL_7ab25744f4084b80aa636e3a101f38df",
            "placeholder": "​",
            "style": "IPY_MODEL_ee0be32c765e4e34bc109de08fc4a688",
            "value": " 1140/1140 [05:02&lt;00:00,  4.22it/s]"
          }
        },
        "4e6265b585eb45e9ab4194244b1c88ba": {
          "model_module": "@jupyter-widgets/base",
          "model_name": "LayoutModel",
          "model_module_version": "1.2.0",
          "state": {
            "_model_module": "@jupyter-widgets/base",
            "_model_module_version": "1.2.0",
            "_model_name": "LayoutModel",
            "_view_count": null,
            "_view_module": "@jupyter-widgets/base",
            "_view_module_version": "1.2.0",
            "_view_name": "LayoutView",
            "align_content": null,
            "align_items": null,
            "align_self": null,
            "border": null,
            "bottom": null,
            "display": null,
            "flex": null,
            "flex_flow": null,
            "grid_area": null,
            "grid_auto_columns": null,
            "grid_auto_flow": null,
            "grid_auto_rows": null,
            "grid_column": null,
            "grid_gap": null,
            "grid_row": null,
            "grid_template_areas": null,
            "grid_template_columns": null,
            "grid_template_rows": null,
            "height": null,
            "justify_content": null,
            "justify_items": null,
            "left": null,
            "margin": null,
            "max_height": null,
            "max_width": null,
            "min_height": null,
            "min_width": null,
            "object_fit": null,
            "object_position": null,
            "order": null,
            "overflow": null,
            "overflow_x": null,
            "overflow_y": null,
            "padding": null,
            "right": null,
            "top": null,
            "visibility": null,
            "width": null
          }
        },
        "e559fcbb41994f39861d587c57aef35c": {
          "model_module": "@jupyter-widgets/base",
          "model_name": "LayoutModel",
          "model_module_version": "1.2.0",
          "state": {
            "_model_module": "@jupyter-widgets/base",
            "_model_module_version": "1.2.0",
            "_model_name": "LayoutModel",
            "_view_count": null,
            "_view_module": "@jupyter-widgets/base",
            "_view_module_version": "1.2.0",
            "_view_name": "LayoutView",
            "align_content": null,
            "align_items": null,
            "align_self": null,
            "border": null,
            "bottom": null,
            "display": null,
            "flex": null,
            "flex_flow": null,
            "grid_area": null,
            "grid_auto_columns": null,
            "grid_auto_flow": null,
            "grid_auto_rows": null,
            "grid_column": null,
            "grid_gap": null,
            "grid_row": null,
            "grid_template_areas": null,
            "grid_template_columns": null,
            "grid_template_rows": null,
            "height": null,
            "justify_content": null,
            "justify_items": null,
            "left": null,
            "margin": null,
            "max_height": null,
            "max_width": null,
            "min_height": null,
            "min_width": null,
            "object_fit": null,
            "object_position": null,
            "order": null,
            "overflow": null,
            "overflow_x": null,
            "overflow_y": null,
            "padding": null,
            "right": null,
            "top": null,
            "visibility": null,
            "width": null
          }
        },
        "ee632f62b38845c6990620fdc5917d91": {
          "model_module": "@jupyter-widgets/controls",
          "model_name": "DescriptionStyleModel",
          "model_module_version": "1.5.0",
          "state": {
            "_model_module": "@jupyter-widgets/controls",
            "_model_module_version": "1.5.0",
            "_model_name": "DescriptionStyleModel",
            "_view_count": null,
            "_view_module": "@jupyter-widgets/base",
            "_view_module_version": "1.2.0",
            "_view_name": "StyleView",
            "description_width": ""
          }
        },
        "03a91d5a4fb146a0b031482815bab01d": {
          "model_module": "@jupyter-widgets/base",
          "model_name": "LayoutModel",
          "model_module_version": "1.2.0",
          "state": {
            "_model_module": "@jupyter-widgets/base",
            "_model_module_version": "1.2.0",
            "_model_name": "LayoutModel",
            "_view_count": null,
            "_view_module": "@jupyter-widgets/base",
            "_view_module_version": "1.2.0",
            "_view_name": "LayoutView",
            "align_content": null,
            "align_items": null,
            "align_self": null,
            "border": null,
            "bottom": null,
            "display": null,
            "flex": null,
            "flex_flow": null,
            "grid_area": null,
            "grid_auto_columns": null,
            "grid_auto_flow": null,
            "grid_auto_rows": null,
            "grid_column": null,
            "grid_gap": null,
            "grid_row": null,
            "grid_template_areas": null,
            "grid_template_columns": null,
            "grid_template_rows": null,
            "height": null,
            "justify_content": null,
            "justify_items": null,
            "left": null,
            "margin": null,
            "max_height": null,
            "max_width": null,
            "min_height": null,
            "min_width": null,
            "object_fit": null,
            "object_position": null,
            "order": null,
            "overflow": null,
            "overflow_x": null,
            "overflow_y": null,
            "padding": null,
            "right": null,
            "top": null,
            "visibility": null,
            "width": null
          }
        },
        "c6b9f18089814be299467fe96d700af9": {
          "model_module": "@jupyter-widgets/controls",
          "model_name": "ProgressStyleModel",
          "model_module_version": "1.5.0",
          "state": {
            "_model_module": "@jupyter-widgets/controls",
            "_model_module_version": "1.5.0",
            "_model_name": "ProgressStyleModel",
            "_view_count": null,
            "_view_module": "@jupyter-widgets/base",
            "_view_module_version": "1.2.0",
            "_view_name": "StyleView",
            "bar_color": null,
            "description_width": ""
          }
        },
        "7ab25744f4084b80aa636e3a101f38df": {
          "model_module": "@jupyter-widgets/base",
          "model_name": "LayoutModel",
          "model_module_version": "1.2.0",
          "state": {
            "_model_module": "@jupyter-widgets/base",
            "_model_module_version": "1.2.0",
            "_model_name": "LayoutModel",
            "_view_count": null,
            "_view_module": "@jupyter-widgets/base",
            "_view_module_version": "1.2.0",
            "_view_name": "LayoutView",
            "align_content": null,
            "align_items": null,
            "align_self": null,
            "border": null,
            "bottom": null,
            "display": null,
            "flex": null,
            "flex_flow": null,
            "grid_area": null,
            "grid_auto_columns": null,
            "grid_auto_flow": null,
            "grid_auto_rows": null,
            "grid_column": null,
            "grid_gap": null,
            "grid_row": null,
            "grid_template_areas": null,
            "grid_template_columns": null,
            "grid_template_rows": null,
            "height": null,
            "justify_content": null,
            "justify_items": null,
            "left": null,
            "margin": null,
            "max_height": null,
            "max_width": null,
            "min_height": null,
            "min_width": null,
            "object_fit": null,
            "object_position": null,
            "order": null,
            "overflow": null,
            "overflow_x": null,
            "overflow_y": null,
            "padding": null,
            "right": null,
            "top": null,
            "visibility": null,
            "width": null
          }
        },
        "ee0be32c765e4e34bc109de08fc4a688": {
          "model_module": "@jupyter-widgets/controls",
          "model_name": "DescriptionStyleModel",
          "model_module_version": "1.5.0",
          "state": {
            "_model_module": "@jupyter-widgets/controls",
            "_model_module_version": "1.5.0",
            "_model_name": "DescriptionStyleModel",
            "_view_count": null,
            "_view_module": "@jupyter-widgets/base",
            "_view_module_version": "1.2.0",
            "_view_name": "StyleView",
            "description_width": ""
          }
        },
        "a2d217a63a9c4fb99023a13f2c98b58e": {
          "model_module": "@jupyter-widgets/controls",
          "model_name": "HBoxModel",
          "model_module_version": "1.5.0",
          "state": {
            "_dom_classes": [],
            "_model_module": "@jupyter-widgets/controls",
            "_model_module_version": "1.5.0",
            "_model_name": "HBoxModel",
            "_view_count": null,
            "_view_module": "@jupyter-widgets/controls",
            "_view_module_version": "1.5.0",
            "_view_name": "HBoxView",
            "box_style": "",
            "children": [
              "IPY_MODEL_2996103c24164c0cbf2d67790f8aa85d",
              "IPY_MODEL_7eb7c49735c0436fb45c4bff537e9cb4",
              "IPY_MODEL_9d7b61265e2d4efbb1f52c6a18643288"
            ],
            "layout": "IPY_MODEL_b7f943267d534348ba8ab5a3e7e0b004"
          }
        },
        "2996103c24164c0cbf2d67790f8aa85d": {
          "model_module": "@jupyter-widgets/controls",
          "model_name": "HTMLModel",
          "model_module_version": "1.5.0",
          "state": {
            "_dom_classes": [],
            "_model_module": "@jupyter-widgets/controls",
            "_model_module_version": "1.5.0",
            "_model_name": "HTMLModel",
            "_view_count": null,
            "_view_module": "@jupyter-widgets/controls",
            "_view_module_version": "1.5.0",
            "_view_name": "HTMLView",
            "description": "",
            "description_tooltip": null,
            "layout": "IPY_MODEL_f799177f72ce4adfbcd40203b8de455b",
            "placeholder": "​",
            "style": "IPY_MODEL_9c4141a31dab45599479d55edeffe3b3",
            "value": "users: 100%"
          }
        },
        "7eb7c49735c0436fb45c4bff537e9cb4": {
          "model_module": "@jupyter-widgets/controls",
          "model_name": "FloatProgressModel",
          "model_module_version": "1.5.0",
          "state": {
            "_dom_classes": [],
            "_model_module": "@jupyter-widgets/controls",
            "_model_module_version": "1.5.0",
            "_model_name": "FloatProgressModel",
            "_view_count": null,
            "_view_module": "@jupyter-widgets/controls",
            "_view_module_version": "1.5.0",
            "_view_name": "ProgressView",
            "bar_style": "success",
            "description": "",
            "description_tooltip": null,
            "layout": "IPY_MODEL_099738dc593e4b13ae0287f98a5b41a6",
            "max": 1140,
            "min": 0,
            "orientation": "horizontal",
            "style": "IPY_MODEL_4effd9d79a0c470ea69700362997c120",
            "value": 1140
          }
        },
        "9d7b61265e2d4efbb1f52c6a18643288": {
          "model_module": "@jupyter-widgets/controls",
          "model_name": "HTMLModel",
          "model_module_version": "1.5.0",
          "state": {
            "_dom_classes": [],
            "_model_module": "@jupyter-widgets/controls",
            "_model_module_version": "1.5.0",
            "_model_name": "HTMLModel",
            "_view_count": null,
            "_view_module": "@jupyter-widgets/controls",
            "_view_module_version": "1.5.0",
            "_view_name": "HTMLView",
            "description": "",
            "description_tooltip": null,
            "layout": "IPY_MODEL_802490c3ba2c4172b55374fb7881c63f",
            "placeholder": "​",
            "style": "IPY_MODEL_fe4fe370e0564b6fa6563c9f8ef04b80",
            "value": " 1140/1140 [05:11&lt;00:00,  3.55it/s]"
          }
        },
        "b7f943267d534348ba8ab5a3e7e0b004": {
          "model_module": "@jupyter-widgets/base",
          "model_name": "LayoutModel",
          "model_module_version": "1.2.0",
          "state": {
            "_model_module": "@jupyter-widgets/base",
            "_model_module_version": "1.2.0",
            "_model_name": "LayoutModel",
            "_view_count": null,
            "_view_module": "@jupyter-widgets/base",
            "_view_module_version": "1.2.0",
            "_view_name": "LayoutView",
            "align_content": null,
            "align_items": null,
            "align_self": null,
            "border": null,
            "bottom": null,
            "display": null,
            "flex": null,
            "flex_flow": null,
            "grid_area": null,
            "grid_auto_columns": null,
            "grid_auto_flow": null,
            "grid_auto_rows": null,
            "grid_column": null,
            "grid_gap": null,
            "grid_row": null,
            "grid_template_areas": null,
            "grid_template_columns": null,
            "grid_template_rows": null,
            "height": null,
            "justify_content": null,
            "justify_items": null,
            "left": null,
            "margin": null,
            "max_height": null,
            "max_width": null,
            "min_height": null,
            "min_width": null,
            "object_fit": null,
            "object_position": null,
            "order": null,
            "overflow": null,
            "overflow_x": null,
            "overflow_y": null,
            "padding": null,
            "right": null,
            "top": null,
            "visibility": null,
            "width": null
          }
        },
        "f799177f72ce4adfbcd40203b8de455b": {
          "model_module": "@jupyter-widgets/base",
          "model_name": "LayoutModel",
          "model_module_version": "1.2.0",
          "state": {
            "_model_module": "@jupyter-widgets/base",
            "_model_module_version": "1.2.0",
            "_model_name": "LayoutModel",
            "_view_count": null,
            "_view_module": "@jupyter-widgets/base",
            "_view_module_version": "1.2.0",
            "_view_name": "LayoutView",
            "align_content": null,
            "align_items": null,
            "align_self": null,
            "border": null,
            "bottom": null,
            "display": null,
            "flex": null,
            "flex_flow": null,
            "grid_area": null,
            "grid_auto_columns": null,
            "grid_auto_flow": null,
            "grid_auto_rows": null,
            "grid_column": null,
            "grid_gap": null,
            "grid_row": null,
            "grid_template_areas": null,
            "grid_template_columns": null,
            "grid_template_rows": null,
            "height": null,
            "justify_content": null,
            "justify_items": null,
            "left": null,
            "margin": null,
            "max_height": null,
            "max_width": null,
            "min_height": null,
            "min_width": null,
            "object_fit": null,
            "object_position": null,
            "order": null,
            "overflow": null,
            "overflow_x": null,
            "overflow_y": null,
            "padding": null,
            "right": null,
            "top": null,
            "visibility": null,
            "width": null
          }
        },
        "9c4141a31dab45599479d55edeffe3b3": {
          "model_module": "@jupyter-widgets/controls",
          "model_name": "DescriptionStyleModel",
          "model_module_version": "1.5.0",
          "state": {
            "_model_module": "@jupyter-widgets/controls",
            "_model_module_version": "1.5.0",
            "_model_name": "DescriptionStyleModel",
            "_view_count": null,
            "_view_module": "@jupyter-widgets/base",
            "_view_module_version": "1.2.0",
            "_view_name": "StyleView",
            "description_width": ""
          }
        },
        "099738dc593e4b13ae0287f98a5b41a6": {
          "model_module": "@jupyter-widgets/base",
          "model_name": "LayoutModel",
          "model_module_version": "1.2.0",
          "state": {
            "_model_module": "@jupyter-widgets/base",
            "_model_module_version": "1.2.0",
            "_model_name": "LayoutModel",
            "_view_count": null,
            "_view_module": "@jupyter-widgets/base",
            "_view_module_version": "1.2.0",
            "_view_name": "LayoutView",
            "align_content": null,
            "align_items": null,
            "align_self": null,
            "border": null,
            "bottom": null,
            "display": null,
            "flex": null,
            "flex_flow": null,
            "grid_area": null,
            "grid_auto_columns": null,
            "grid_auto_flow": null,
            "grid_auto_rows": null,
            "grid_column": null,
            "grid_gap": null,
            "grid_row": null,
            "grid_template_areas": null,
            "grid_template_columns": null,
            "grid_template_rows": null,
            "height": null,
            "justify_content": null,
            "justify_items": null,
            "left": null,
            "margin": null,
            "max_height": null,
            "max_width": null,
            "min_height": null,
            "min_width": null,
            "object_fit": null,
            "object_position": null,
            "order": null,
            "overflow": null,
            "overflow_x": null,
            "overflow_y": null,
            "padding": null,
            "right": null,
            "top": null,
            "visibility": null,
            "width": null
          }
        },
        "4effd9d79a0c470ea69700362997c120": {
          "model_module": "@jupyter-widgets/controls",
          "model_name": "ProgressStyleModel",
          "model_module_version": "1.5.0",
          "state": {
            "_model_module": "@jupyter-widgets/controls",
            "_model_module_version": "1.5.0",
            "_model_name": "ProgressStyleModel",
            "_view_count": null,
            "_view_module": "@jupyter-widgets/base",
            "_view_module_version": "1.2.0",
            "_view_name": "StyleView",
            "bar_color": null,
            "description_width": ""
          }
        },
        "802490c3ba2c4172b55374fb7881c63f": {
          "model_module": "@jupyter-widgets/base",
          "model_name": "LayoutModel",
          "model_module_version": "1.2.0",
          "state": {
            "_model_module": "@jupyter-widgets/base",
            "_model_module_version": "1.2.0",
            "_model_name": "LayoutModel",
            "_view_count": null,
            "_view_module": "@jupyter-widgets/base",
            "_view_module_version": "1.2.0",
            "_view_name": "LayoutView",
            "align_content": null,
            "align_items": null,
            "align_self": null,
            "border": null,
            "bottom": null,
            "display": null,
            "flex": null,
            "flex_flow": null,
            "grid_area": null,
            "grid_auto_columns": null,
            "grid_auto_flow": null,
            "grid_auto_rows": null,
            "grid_column": null,
            "grid_gap": null,
            "grid_row": null,
            "grid_template_areas": null,
            "grid_template_columns": null,
            "grid_template_rows": null,
            "height": null,
            "justify_content": null,
            "justify_items": null,
            "left": null,
            "margin": null,
            "max_height": null,
            "max_width": null,
            "min_height": null,
            "min_width": null,
            "object_fit": null,
            "object_position": null,
            "order": null,
            "overflow": null,
            "overflow_x": null,
            "overflow_y": null,
            "padding": null,
            "right": null,
            "top": null,
            "visibility": null,
            "width": null
          }
        },
        "fe4fe370e0564b6fa6563c9f8ef04b80": {
          "model_module": "@jupyter-widgets/controls",
          "model_name": "DescriptionStyleModel",
          "model_module_version": "1.5.0",
          "state": {
            "_model_module": "@jupyter-widgets/controls",
            "_model_module_version": "1.5.0",
            "_model_name": "DescriptionStyleModel",
            "_view_count": null,
            "_view_module": "@jupyter-widgets/base",
            "_view_module_version": "1.2.0",
            "_view_name": "StyleView",
            "description_width": ""
          }
        },
        "b953234c0ec4486faf49fa2901f07d97": {
          "model_module": "@jupyter-widgets/controls",
          "model_name": "HBoxModel",
          "model_module_version": "1.5.0",
          "state": {
            "_dom_classes": [],
            "_model_module": "@jupyter-widgets/controls",
            "_model_module_version": "1.5.0",
            "_model_name": "HBoxModel",
            "_view_count": null,
            "_view_module": "@jupyter-widgets/controls",
            "_view_module_version": "1.5.0",
            "_view_name": "HBoxView",
            "box_style": "",
            "children": [
              "IPY_MODEL_ec4ce6596c56497997c7f475de104237",
              "IPY_MODEL_982e845248be47cf8157cb511a51779b",
              "IPY_MODEL_adde5c6ba1894cbc9f9bf63ea9d165cc"
            ],
            "layout": "IPY_MODEL_db6c558df0b94bbcbe1435bb5b10abc3"
          }
        },
        "ec4ce6596c56497997c7f475de104237": {
          "model_module": "@jupyter-widgets/controls",
          "model_name": "HTMLModel",
          "model_module_version": "1.5.0",
          "state": {
            "_dom_classes": [],
            "_model_module": "@jupyter-widgets/controls",
            "_model_module_version": "1.5.0",
            "_model_name": "HTMLModel",
            "_view_count": null,
            "_view_module": "@jupyter-widgets/controls",
            "_view_module_version": "1.5.0",
            "_view_name": "HTMLView",
            "description": "",
            "description_tooltip": null,
            "layout": "IPY_MODEL_7b26522f466b4e468aa076cd292b4099",
            "placeholder": "​",
            "style": "IPY_MODEL_5ea6dd35d03749e9b98d8d3382503e3e",
            "value": "users: 100%"
          }
        },
        "982e845248be47cf8157cb511a51779b": {
          "model_module": "@jupyter-widgets/controls",
          "model_name": "FloatProgressModel",
          "model_module_version": "1.5.0",
          "state": {
            "_dom_classes": [],
            "_model_module": "@jupyter-widgets/controls",
            "_model_module_version": "1.5.0",
            "_model_name": "FloatProgressModel",
            "_view_count": null,
            "_view_module": "@jupyter-widgets/controls",
            "_view_module_version": "1.5.0",
            "_view_name": "ProgressView",
            "bar_style": "success",
            "description": "",
            "description_tooltip": null,
            "layout": "IPY_MODEL_85472ea526c44aa8ac92d3e7fe47fd18",
            "max": 1140,
            "min": 0,
            "orientation": "horizontal",
            "style": "IPY_MODEL_438637d7220a439cb3234ff3d78c4dd7",
            "value": 1140
          }
        },
        "adde5c6ba1894cbc9f9bf63ea9d165cc": {
          "model_module": "@jupyter-widgets/controls",
          "model_name": "HTMLModel",
          "model_module_version": "1.5.0",
          "state": {
            "_dom_classes": [],
            "_model_module": "@jupyter-widgets/controls",
            "_model_module_version": "1.5.0",
            "_model_name": "HTMLModel",
            "_view_count": null,
            "_view_module": "@jupyter-widgets/controls",
            "_view_module_version": "1.5.0",
            "_view_name": "HTMLView",
            "description": "",
            "description_tooltip": null,
            "layout": "IPY_MODEL_d089c0dddfe94f3c91462ffd9a4cd5a6",
            "placeholder": "​",
            "style": "IPY_MODEL_cf19422218074a3183a322f489d9ddbb",
            "value": " 1140/1140 [00:13&lt;00:00, 169.69it/s]"
          }
        },
        "db6c558df0b94bbcbe1435bb5b10abc3": {
          "model_module": "@jupyter-widgets/base",
          "model_name": "LayoutModel",
          "model_module_version": "1.2.0",
          "state": {
            "_model_module": "@jupyter-widgets/base",
            "_model_module_version": "1.2.0",
            "_model_name": "LayoutModel",
            "_view_count": null,
            "_view_module": "@jupyter-widgets/base",
            "_view_module_version": "1.2.0",
            "_view_name": "LayoutView",
            "align_content": null,
            "align_items": null,
            "align_self": null,
            "border": null,
            "bottom": null,
            "display": null,
            "flex": null,
            "flex_flow": null,
            "grid_area": null,
            "grid_auto_columns": null,
            "grid_auto_flow": null,
            "grid_auto_rows": null,
            "grid_column": null,
            "grid_gap": null,
            "grid_row": null,
            "grid_template_areas": null,
            "grid_template_columns": null,
            "grid_template_rows": null,
            "height": null,
            "justify_content": null,
            "justify_items": null,
            "left": null,
            "margin": null,
            "max_height": null,
            "max_width": null,
            "min_height": null,
            "min_width": null,
            "object_fit": null,
            "object_position": null,
            "order": null,
            "overflow": null,
            "overflow_x": null,
            "overflow_y": null,
            "padding": null,
            "right": null,
            "top": null,
            "visibility": null,
            "width": null
          }
        },
        "7b26522f466b4e468aa076cd292b4099": {
          "model_module": "@jupyter-widgets/base",
          "model_name": "LayoutModel",
          "model_module_version": "1.2.0",
          "state": {
            "_model_module": "@jupyter-widgets/base",
            "_model_module_version": "1.2.0",
            "_model_name": "LayoutModel",
            "_view_count": null,
            "_view_module": "@jupyter-widgets/base",
            "_view_module_version": "1.2.0",
            "_view_name": "LayoutView",
            "align_content": null,
            "align_items": null,
            "align_self": null,
            "border": null,
            "bottom": null,
            "display": null,
            "flex": null,
            "flex_flow": null,
            "grid_area": null,
            "grid_auto_columns": null,
            "grid_auto_flow": null,
            "grid_auto_rows": null,
            "grid_column": null,
            "grid_gap": null,
            "grid_row": null,
            "grid_template_areas": null,
            "grid_template_columns": null,
            "grid_template_rows": null,
            "height": null,
            "justify_content": null,
            "justify_items": null,
            "left": null,
            "margin": null,
            "max_height": null,
            "max_width": null,
            "min_height": null,
            "min_width": null,
            "object_fit": null,
            "object_position": null,
            "order": null,
            "overflow": null,
            "overflow_x": null,
            "overflow_y": null,
            "padding": null,
            "right": null,
            "top": null,
            "visibility": null,
            "width": null
          }
        },
        "5ea6dd35d03749e9b98d8d3382503e3e": {
          "model_module": "@jupyter-widgets/controls",
          "model_name": "DescriptionStyleModel",
          "model_module_version": "1.5.0",
          "state": {
            "_model_module": "@jupyter-widgets/controls",
            "_model_module_version": "1.5.0",
            "_model_name": "DescriptionStyleModel",
            "_view_count": null,
            "_view_module": "@jupyter-widgets/base",
            "_view_module_version": "1.2.0",
            "_view_name": "StyleView",
            "description_width": ""
          }
        },
        "85472ea526c44aa8ac92d3e7fe47fd18": {
          "model_module": "@jupyter-widgets/base",
          "model_name": "LayoutModel",
          "model_module_version": "1.2.0",
          "state": {
            "_model_module": "@jupyter-widgets/base",
            "_model_module_version": "1.2.0",
            "_model_name": "LayoutModel",
            "_view_count": null,
            "_view_module": "@jupyter-widgets/base",
            "_view_module_version": "1.2.0",
            "_view_name": "LayoutView",
            "align_content": null,
            "align_items": null,
            "align_self": null,
            "border": null,
            "bottom": null,
            "display": null,
            "flex": null,
            "flex_flow": null,
            "grid_area": null,
            "grid_auto_columns": null,
            "grid_auto_flow": null,
            "grid_auto_rows": null,
            "grid_column": null,
            "grid_gap": null,
            "grid_row": null,
            "grid_template_areas": null,
            "grid_template_columns": null,
            "grid_template_rows": null,
            "height": null,
            "justify_content": null,
            "justify_items": null,
            "left": null,
            "margin": null,
            "max_height": null,
            "max_width": null,
            "min_height": null,
            "min_width": null,
            "object_fit": null,
            "object_position": null,
            "order": null,
            "overflow": null,
            "overflow_x": null,
            "overflow_y": null,
            "padding": null,
            "right": null,
            "top": null,
            "visibility": null,
            "width": null
          }
        },
        "438637d7220a439cb3234ff3d78c4dd7": {
          "model_module": "@jupyter-widgets/controls",
          "model_name": "ProgressStyleModel",
          "model_module_version": "1.5.0",
          "state": {
            "_model_module": "@jupyter-widgets/controls",
            "_model_module_version": "1.5.0",
            "_model_name": "ProgressStyleModel",
            "_view_count": null,
            "_view_module": "@jupyter-widgets/base",
            "_view_module_version": "1.2.0",
            "_view_name": "StyleView",
            "bar_color": null,
            "description_width": ""
          }
        },
        "d089c0dddfe94f3c91462ffd9a4cd5a6": {
          "model_module": "@jupyter-widgets/base",
          "model_name": "LayoutModel",
          "model_module_version": "1.2.0",
          "state": {
            "_model_module": "@jupyter-widgets/base",
            "_model_module_version": "1.2.0",
            "_model_name": "LayoutModel",
            "_view_count": null,
            "_view_module": "@jupyter-widgets/base",
            "_view_module_version": "1.2.0",
            "_view_name": "LayoutView",
            "align_content": null,
            "align_items": null,
            "align_self": null,
            "border": null,
            "bottom": null,
            "display": null,
            "flex": null,
            "flex_flow": null,
            "grid_area": null,
            "grid_auto_columns": null,
            "grid_auto_flow": null,
            "grid_auto_rows": null,
            "grid_column": null,
            "grid_gap": null,
            "grid_row": null,
            "grid_template_areas": null,
            "grid_template_columns": null,
            "grid_template_rows": null,
            "height": null,
            "justify_content": null,
            "justify_items": null,
            "left": null,
            "margin": null,
            "max_height": null,
            "max_width": null,
            "min_height": null,
            "min_width": null,
            "object_fit": null,
            "object_position": null,
            "order": null,
            "overflow": null,
            "overflow_x": null,
            "overflow_y": null,
            "padding": null,
            "right": null,
            "top": null,
            "visibility": null,
            "width": null
          }
        },
        "cf19422218074a3183a322f489d9ddbb": {
          "model_module": "@jupyter-widgets/controls",
          "model_name": "DescriptionStyleModel",
          "model_module_version": "1.5.0",
          "state": {
            "_model_module": "@jupyter-widgets/controls",
            "_model_module_version": "1.5.0",
            "_model_name": "DescriptionStyleModel",
            "_view_count": null,
            "_view_module": "@jupyter-widgets/base",
            "_view_module_version": "1.2.0",
            "_view_name": "StyleView",
            "description_width": ""
          }
        },
        "ecea226e3c704317b78196844a559920": {
          "model_module": "@jupyter-widgets/controls",
          "model_name": "HBoxModel",
          "model_module_version": "1.5.0",
          "state": {
            "_dom_classes": [],
            "_model_module": "@jupyter-widgets/controls",
            "_model_module_version": "1.5.0",
            "_model_name": "HBoxModel",
            "_view_count": null,
            "_view_module": "@jupyter-widgets/controls",
            "_view_module_version": "1.5.0",
            "_view_name": "HBoxView",
            "box_style": "",
            "children": [
              "IPY_MODEL_36527e60244742148882e00fa404725d",
              "IPY_MODEL_1033853cd57a407cb8d4c05167184bb5",
              "IPY_MODEL_ed8d0f5eab2c4b05b03f76738e606ffe"
            ],
            "layout": "IPY_MODEL_1335f3b4c7b44e17a23eeac32b2aaa2b"
          }
        },
        "36527e60244742148882e00fa404725d": {
          "model_module": "@jupyter-widgets/controls",
          "model_name": "HTMLModel",
          "model_module_version": "1.5.0",
          "state": {
            "_dom_classes": [],
            "_model_module": "@jupyter-widgets/controls",
            "_model_module_version": "1.5.0",
            "_model_name": "HTMLModel",
            "_view_count": null,
            "_view_module": "@jupyter-widgets/controls",
            "_view_module_version": "1.5.0",
            "_view_name": "HTMLView",
            "description": "",
            "description_tooltip": null,
            "layout": "IPY_MODEL_2d5fa2da275a4a7daca051d85ead0133",
            "placeholder": "​",
            "style": "IPY_MODEL_66403b7f0acf43d3bb25ef6422c04af4",
            "value": "Predictions: 100%"
          }
        },
        "1033853cd57a407cb8d4c05167184bb5": {
          "model_module": "@jupyter-widgets/controls",
          "model_name": "FloatProgressModel",
          "model_module_version": "1.5.0",
          "state": {
            "_dom_classes": [],
            "_model_module": "@jupyter-widgets/controls",
            "_model_module_version": "1.5.0",
            "_model_name": "FloatProgressModel",
            "_view_count": null,
            "_view_module": "@jupyter-widgets/controls",
            "_view_module_version": "1.5.0",
            "_view_name": "ProgressView",
            "bar_style": "success",
            "description": "",
            "description_tooltip": null,
            "layout": "IPY_MODEL_90e962c4f3de46fb915812ab5bd69f4a",
            "max": 10237,
            "min": 0,
            "orientation": "horizontal",
            "style": "IPY_MODEL_cbcffc914fb342c792957f13c2d6215c",
            "value": 10237
          }
        },
        "ed8d0f5eab2c4b05b03f76738e606ffe": {
          "model_module": "@jupyter-widgets/controls",
          "model_name": "HTMLModel",
          "model_module_version": "1.5.0",
          "state": {
            "_dom_classes": [],
            "_model_module": "@jupyter-widgets/controls",
            "_model_module_version": "1.5.0",
            "_model_name": "HTMLModel",
            "_view_count": null,
            "_view_module": "@jupyter-widgets/controls",
            "_view_module_version": "1.5.0",
            "_view_name": "HTMLView",
            "description": "",
            "description_tooltip": null,
            "layout": "IPY_MODEL_b9ab1384c6f046e7ae4d180bedf6561a",
            "placeholder": "​",
            "style": "IPY_MODEL_ad53c8454d49430191ca724e5bd1dbe5",
            "value": " 10237/10237 [00:02&lt;00:00, 4418.86it/s]"
          }
        },
        "1335f3b4c7b44e17a23eeac32b2aaa2b": {
          "model_module": "@jupyter-widgets/base",
          "model_name": "LayoutModel",
          "model_module_version": "1.2.0",
          "state": {
            "_model_module": "@jupyter-widgets/base",
            "_model_module_version": "1.2.0",
            "_model_name": "LayoutModel",
            "_view_count": null,
            "_view_module": "@jupyter-widgets/base",
            "_view_module_version": "1.2.0",
            "_view_name": "LayoutView",
            "align_content": null,
            "align_items": null,
            "align_self": null,
            "border": null,
            "bottom": null,
            "display": null,
            "flex": null,
            "flex_flow": null,
            "grid_area": null,
            "grid_auto_columns": null,
            "grid_auto_flow": null,
            "grid_auto_rows": null,
            "grid_column": null,
            "grid_gap": null,
            "grid_row": null,
            "grid_template_areas": null,
            "grid_template_columns": null,
            "grid_template_rows": null,
            "height": null,
            "justify_content": null,
            "justify_items": null,
            "left": null,
            "margin": null,
            "max_height": null,
            "max_width": null,
            "min_height": null,
            "min_width": null,
            "object_fit": null,
            "object_position": null,
            "order": null,
            "overflow": null,
            "overflow_x": null,
            "overflow_y": null,
            "padding": null,
            "right": null,
            "top": null,
            "visibility": null,
            "width": null
          }
        },
        "2d5fa2da275a4a7daca051d85ead0133": {
          "model_module": "@jupyter-widgets/base",
          "model_name": "LayoutModel",
          "model_module_version": "1.2.0",
          "state": {
            "_model_module": "@jupyter-widgets/base",
            "_model_module_version": "1.2.0",
            "_model_name": "LayoutModel",
            "_view_count": null,
            "_view_module": "@jupyter-widgets/base",
            "_view_module_version": "1.2.0",
            "_view_name": "LayoutView",
            "align_content": null,
            "align_items": null,
            "align_self": null,
            "border": null,
            "bottom": null,
            "display": null,
            "flex": null,
            "flex_flow": null,
            "grid_area": null,
            "grid_auto_columns": null,
            "grid_auto_flow": null,
            "grid_auto_rows": null,
            "grid_column": null,
            "grid_gap": null,
            "grid_row": null,
            "grid_template_areas": null,
            "grid_template_columns": null,
            "grid_template_rows": null,
            "height": null,
            "justify_content": null,
            "justify_items": null,
            "left": null,
            "margin": null,
            "max_height": null,
            "max_width": null,
            "min_height": null,
            "min_width": null,
            "object_fit": null,
            "object_position": null,
            "order": null,
            "overflow": null,
            "overflow_x": null,
            "overflow_y": null,
            "padding": null,
            "right": null,
            "top": null,
            "visibility": null,
            "width": null
          }
        },
        "66403b7f0acf43d3bb25ef6422c04af4": {
          "model_module": "@jupyter-widgets/controls",
          "model_name": "DescriptionStyleModel",
          "model_module_version": "1.5.0",
          "state": {
            "_model_module": "@jupyter-widgets/controls",
            "_model_module_version": "1.5.0",
            "_model_name": "DescriptionStyleModel",
            "_view_count": null,
            "_view_module": "@jupyter-widgets/base",
            "_view_module_version": "1.2.0",
            "_view_name": "StyleView",
            "description_width": ""
          }
        },
        "90e962c4f3de46fb915812ab5bd69f4a": {
          "model_module": "@jupyter-widgets/base",
          "model_name": "LayoutModel",
          "model_module_version": "1.2.0",
          "state": {
            "_model_module": "@jupyter-widgets/base",
            "_model_module_version": "1.2.0",
            "_model_name": "LayoutModel",
            "_view_count": null,
            "_view_module": "@jupyter-widgets/base",
            "_view_module_version": "1.2.0",
            "_view_name": "LayoutView",
            "align_content": null,
            "align_items": null,
            "align_self": null,
            "border": null,
            "bottom": null,
            "display": null,
            "flex": null,
            "flex_flow": null,
            "grid_area": null,
            "grid_auto_columns": null,
            "grid_auto_flow": null,
            "grid_auto_rows": null,
            "grid_column": null,
            "grid_gap": null,
            "grid_row": null,
            "grid_template_areas": null,
            "grid_template_columns": null,
            "grid_template_rows": null,
            "height": null,
            "justify_content": null,
            "justify_items": null,
            "left": null,
            "margin": null,
            "max_height": null,
            "max_width": null,
            "min_height": null,
            "min_width": null,
            "object_fit": null,
            "object_position": null,
            "order": null,
            "overflow": null,
            "overflow_x": null,
            "overflow_y": null,
            "padding": null,
            "right": null,
            "top": null,
            "visibility": null,
            "width": null
          }
        },
        "cbcffc914fb342c792957f13c2d6215c": {
          "model_module": "@jupyter-widgets/controls",
          "model_name": "ProgressStyleModel",
          "model_module_version": "1.5.0",
          "state": {
            "_model_module": "@jupyter-widgets/controls",
            "_model_module_version": "1.5.0",
            "_model_name": "ProgressStyleModel",
            "_view_count": null,
            "_view_module": "@jupyter-widgets/base",
            "_view_module_version": "1.2.0",
            "_view_name": "StyleView",
            "bar_color": null,
            "description_width": ""
          }
        },
        "b9ab1384c6f046e7ae4d180bedf6561a": {
          "model_module": "@jupyter-widgets/base",
          "model_name": "LayoutModel",
          "model_module_version": "1.2.0",
          "state": {
            "_model_module": "@jupyter-widgets/base",
            "_model_module_version": "1.2.0",
            "_model_name": "LayoutModel",
            "_view_count": null,
            "_view_module": "@jupyter-widgets/base",
            "_view_module_version": "1.2.0",
            "_view_name": "LayoutView",
            "align_content": null,
            "align_items": null,
            "align_self": null,
            "border": null,
            "bottom": null,
            "display": null,
            "flex": null,
            "flex_flow": null,
            "grid_area": null,
            "grid_auto_columns": null,
            "grid_auto_flow": null,
            "grid_auto_rows": null,
            "grid_column": null,
            "grid_gap": null,
            "grid_row": null,
            "grid_template_areas": null,
            "grid_template_columns": null,
            "grid_template_rows": null,
            "height": null,
            "justify_content": null,
            "justify_items": null,
            "left": null,
            "margin": null,
            "max_height": null,
            "max_width": null,
            "min_height": null,
            "min_width": null,
            "object_fit": null,
            "object_position": null,
            "order": null,
            "overflow": null,
            "overflow_x": null,
            "overflow_y": null,
            "padding": null,
            "right": null,
            "top": null,
            "visibility": null,
            "width": null
          }
        },
        "ad53c8454d49430191ca724e5bd1dbe5": {
          "model_module": "@jupyter-widgets/controls",
          "model_name": "DescriptionStyleModel",
          "model_module_version": "1.5.0",
          "state": {
            "_model_module": "@jupyter-widgets/controls",
            "_model_module_version": "1.5.0",
            "_model_name": "DescriptionStyleModel",
            "_view_count": null,
            "_view_module": "@jupyter-widgets/base",
            "_view_module_version": "1.2.0",
            "_view_name": "StyleView",
            "description_width": ""
          }
        },
        "7eba953ec7f740c8a46ebea127ee5259": {
          "model_module": "@jupyter-widgets/controls",
          "model_name": "HBoxModel",
          "model_module_version": "1.5.0",
          "state": {
            "_dom_classes": [],
            "_model_module": "@jupyter-widgets/controls",
            "_model_module_version": "1.5.0",
            "_model_name": "HBoxModel",
            "_view_count": null,
            "_view_module": "@jupyter-widgets/controls",
            "_view_module_version": "1.5.0",
            "_view_name": "HBoxView",
            "box_style": "",
            "children": [
              "IPY_MODEL_9910acf5f9a44b4b81484e66b4a746dd",
              "IPY_MODEL_1fa34aadd54c458081e3ab7ed67ef028",
              "IPY_MODEL_e60d017e77f44dada622118aace1a1db"
            ],
            "layout": "IPY_MODEL_e16bdb208fbf49a7929a3cf8af4aa647"
          }
        },
        "9910acf5f9a44b4b81484e66b4a746dd": {
          "model_module": "@jupyter-widgets/controls",
          "model_name": "HTMLModel",
          "model_module_version": "1.5.0",
          "state": {
            "_dom_classes": [],
            "_model_module": "@jupyter-widgets/controls",
            "_model_module_version": "1.5.0",
            "_model_name": "HTMLModel",
            "_view_count": null,
            "_view_module": "@jupyter-widgets/controls",
            "_view_module_version": "1.5.0",
            "_view_name": "HTMLView",
            "description": "",
            "description_tooltip": null,
            "layout": "IPY_MODEL_ceab0119d2204769803429fd502b3ae9",
            "placeholder": "​",
            "style": "IPY_MODEL_b00d11181a0a4f598f36f7fa17a561a7",
            "value": "Predictions: 100%"
          }
        },
        "1fa34aadd54c458081e3ab7ed67ef028": {
          "model_module": "@jupyter-widgets/controls",
          "model_name": "FloatProgressModel",
          "model_module_version": "1.5.0",
          "state": {
            "_dom_classes": [],
            "_model_module": "@jupyter-widgets/controls",
            "_model_module_version": "1.5.0",
            "_model_name": "FloatProgressModel",
            "_view_count": null,
            "_view_module": "@jupyter-widgets/controls",
            "_view_module_version": "1.5.0",
            "_view_name": "ProgressView",
            "bar_style": "success",
            "description": "",
            "description_tooltip": null,
            "layout": "IPY_MODEL_01447f47c5734632804daba705eb2b8a",
            "max": 2452,
            "min": 0,
            "orientation": "horizontal",
            "style": "IPY_MODEL_15d14ecbdf934e19a6430aa0b1e4e4ec",
            "value": 2452
          }
        },
        "e60d017e77f44dada622118aace1a1db": {
          "model_module": "@jupyter-widgets/controls",
          "model_name": "HTMLModel",
          "model_module_version": "1.5.0",
          "state": {
            "_dom_classes": [],
            "_model_module": "@jupyter-widgets/controls",
            "_model_module_version": "1.5.0",
            "_model_name": "HTMLModel",
            "_view_count": null,
            "_view_module": "@jupyter-widgets/controls",
            "_view_module_version": "1.5.0",
            "_view_name": "HTMLView",
            "description": "",
            "description_tooltip": null,
            "layout": "IPY_MODEL_f645e0dded814810b7f09cdb23282ec4",
            "placeholder": "​",
            "style": "IPY_MODEL_e0dbf4b8d7684684a392ac71eb68bcd4",
            "value": " 2452/2452 [00:01&lt;00:00, 3183.47it/s]"
          }
        },
        "e16bdb208fbf49a7929a3cf8af4aa647": {
          "model_module": "@jupyter-widgets/base",
          "model_name": "LayoutModel",
          "model_module_version": "1.2.0",
          "state": {
            "_model_module": "@jupyter-widgets/base",
            "_model_module_version": "1.2.0",
            "_model_name": "LayoutModel",
            "_view_count": null,
            "_view_module": "@jupyter-widgets/base",
            "_view_module_version": "1.2.0",
            "_view_name": "LayoutView",
            "align_content": null,
            "align_items": null,
            "align_self": null,
            "border": null,
            "bottom": null,
            "display": null,
            "flex": null,
            "flex_flow": null,
            "grid_area": null,
            "grid_auto_columns": null,
            "grid_auto_flow": null,
            "grid_auto_rows": null,
            "grid_column": null,
            "grid_gap": null,
            "grid_row": null,
            "grid_template_areas": null,
            "grid_template_columns": null,
            "grid_template_rows": null,
            "height": null,
            "justify_content": null,
            "justify_items": null,
            "left": null,
            "margin": null,
            "max_height": null,
            "max_width": null,
            "min_height": null,
            "min_width": null,
            "object_fit": null,
            "object_position": null,
            "order": null,
            "overflow": null,
            "overflow_x": null,
            "overflow_y": null,
            "padding": null,
            "right": null,
            "top": null,
            "visibility": null,
            "width": null
          }
        },
        "ceab0119d2204769803429fd502b3ae9": {
          "model_module": "@jupyter-widgets/base",
          "model_name": "LayoutModel",
          "model_module_version": "1.2.0",
          "state": {
            "_model_module": "@jupyter-widgets/base",
            "_model_module_version": "1.2.0",
            "_model_name": "LayoutModel",
            "_view_count": null,
            "_view_module": "@jupyter-widgets/base",
            "_view_module_version": "1.2.0",
            "_view_name": "LayoutView",
            "align_content": null,
            "align_items": null,
            "align_self": null,
            "border": null,
            "bottom": null,
            "display": null,
            "flex": null,
            "flex_flow": null,
            "grid_area": null,
            "grid_auto_columns": null,
            "grid_auto_flow": null,
            "grid_auto_rows": null,
            "grid_column": null,
            "grid_gap": null,
            "grid_row": null,
            "grid_template_areas": null,
            "grid_template_columns": null,
            "grid_template_rows": null,
            "height": null,
            "justify_content": null,
            "justify_items": null,
            "left": null,
            "margin": null,
            "max_height": null,
            "max_width": null,
            "min_height": null,
            "min_width": null,
            "object_fit": null,
            "object_position": null,
            "order": null,
            "overflow": null,
            "overflow_x": null,
            "overflow_y": null,
            "padding": null,
            "right": null,
            "top": null,
            "visibility": null,
            "width": null
          }
        },
        "b00d11181a0a4f598f36f7fa17a561a7": {
          "model_module": "@jupyter-widgets/controls",
          "model_name": "DescriptionStyleModel",
          "model_module_version": "1.5.0",
          "state": {
            "_model_module": "@jupyter-widgets/controls",
            "_model_module_version": "1.5.0",
            "_model_name": "DescriptionStyleModel",
            "_view_count": null,
            "_view_module": "@jupyter-widgets/base",
            "_view_module_version": "1.2.0",
            "_view_name": "StyleView",
            "description_width": ""
          }
        },
        "01447f47c5734632804daba705eb2b8a": {
          "model_module": "@jupyter-widgets/base",
          "model_name": "LayoutModel",
          "model_module_version": "1.2.0",
          "state": {
            "_model_module": "@jupyter-widgets/base",
            "_model_module_version": "1.2.0",
            "_model_name": "LayoutModel",
            "_view_count": null,
            "_view_module": "@jupyter-widgets/base",
            "_view_module_version": "1.2.0",
            "_view_name": "LayoutView",
            "align_content": null,
            "align_items": null,
            "align_self": null,
            "border": null,
            "bottom": null,
            "display": null,
            "flex": null,
            "flex_flow": null,
            "grid_area": null,
            "grid_auto_columns": null,
            "grid_auto_flow": null,
            "grid_auto_rows": null,
            "grid_column": null,
            "grid_gap": null,
            "grid_row": null,
            "grid_template_areas": null,
            "grid_template_columns": null,
            "grid_template_rows": null,
            "height": null,
            "justify_content": null,
            "justify_items": null,
            "left": null,
            "margin": null,
            "max_height": null,
            "max_width": null,
            "min_height": null,
            "min_width": null,
            "object_fit": null,
            "object_position": null,
            "order": null,
            "overflow": null,
            "overflow_x": null,
            "overflow_y": null,
            "padding": null,
            "right": null,
            "top": null,
            "visibility": null,
            "width": null
          }
        },
        "15d14ecbdf934e19a6430aa0b1e4e4ec": {
          "model_module": "@jupyter-widgets/controls",
          "model_name": "ProgressStyleModel",
          "model_module_version": "1.5.0",
          "state": {
            "_model_module": "@jupyter-widgets/controls",
            "_model_module_version": "1.5.0",
            "_model_name": "ProgressStyleModel",
            "_view_count": null,
            "_view_module": "@jupyter-widgets/base",
            "_view_module_version": "1.2.0",
            "_view_name": "StyleView",
            "bar_color": null,
            "description_width": ""
          }
        },
        "f645e0dded814810b7f09cdb23282ec4": {
          "model_module": "@jupyter-widgets/base",
          "model_name": "LayoutModel",
          "model_module_version": "1.2.0",
          "state": {
            "_model_module": "@jupyter-widgets/base",
            "_model_module_version": "1.2.0",
            "_model_name": "LayoutModel",
            "_view_count": null,
            "_view_module": "@jupyter-widgets/base",
            "_view_module_version": "1.2.0",
            "_view_name": "LayoutView",
            "align_content": null,
            "align_items": null,
            "align_self": null,
            "border": null,
            "bottom": null,
            "display": null,
            "flex": null,
            "flex_flow": null,
            "grid_area": null,
            "grid_auto_columns": null,
            "grid_auto_flow": null,
            "grid_auto_rows": null,
            "grid_column": null,
            "grid_gap": null,
            "grid_row": null,
            "grid_template_areas": null,
            "grid_template_columns": null,
            "grid_template_rows": null,
            "height": null,
            "justify_content": null,
            "justify_items": null,
            "left": null,
            "margin": null,
            "max_height": null,
            "max_width": null,
            "min_height": null,
            "min_width": null,
            "object_fit": null,
            "object_position": null,
            "order": null,
            "overflow": null,
            "overflow_x": null,
            "overflow_y": null,
            "padding": null,
            "right": null,
            "top": null,
            "visibility": null,
            "width": null
          }
        },
        "e0dbf4b8d7684684a392ac71eb68bcd4": {
          "model_module": "@jupyter-widgets/controls",
          "model_name": "DescriptionStyleModel",
          "model_module_version": "1.5.0",
          "state": {
            "_model_module": "@jupyter-widgets/controls",
            "_model_module_version": "1.5.0",
            "_model_name": "DescriptionStyleModel",
            "_view_count": null,
            "_view_module": "@jupyter-widgets/base",
            "_view_module_version": "1.2.0",
            "_view_name": "StyleView",
            "description_width": ""
          }
        }
      }
    }
  },
  "nbformat": 4,
  "nbformat_minor": 0
}